{
 "cells": [
  {
   "cell_type": "code",
   "execution_count": 6,
   "id": "80c833bf",
   "metadata": {},
   "outputs": [],
   "source": [
    "import os\n",
    "import cv2\n",
    "import json\n",
    "import torch\n",
    "import numpy as np\n",
    "from tqdm import tqdm\n",
    "from datetime import datetime\n",
    "from segment_anything import sam_model_registry, SamPredictor\n",
    "from pycocotools import mask as mask_utils"
   ]
  },
  {
   "cell_type": "code",
   "execution_count": 10,
   "id": "da4df807",
   "metadata": {},
   "outputs": [],
   "source": [
    "image_folder = r\"C:\\Users\\Home\\Sidewalk\\IMAGE_FOLDER\"\n",
    "checkpoint_path = r\"C:\\Users\\Home\\Sidewalk\\PATH_TO_MODEL\\sam_vit_h_4b8939.pth\"\n",
    "model_type = \"vit_h\"\n",
    "output_root = \"segmentation_outputs\"\n",
    "os.makedirs(output_root, exist_ok=True)"
   ]
  },
  {
   "cell_type": "code",
   "execution_count": 11,
   "id": "7f97fd87",
   "metadata": {},
   "outputs": [],
   "source": [
    "device = \"cuda\" if torch.cuda.is_available() else \"cpu\"\n",
    "sam = sam_model_registry[model_type](checkpoint=checkpoint_path)\n",
    "sam.to(device)\n",
    "predictor = SamPredictor(sam)"
   ]
  },
  {
   "cell_type": "code",
   "execution_count": 12,
   "id": "0e3b9bb9",
   "metadata": {},
   "outputs": [],
   "source": [
    "def binary_mask_to_rle(mask):\n",
    "    rle = mask_utils.encode(np.asfortranarray(mask.astype(np.uint8)))\n",
    "    rle[\"counts\"] = rle[\"counts\"].decode(\"utf-8\")  # bytes to str for JSON\n",
    "    return rle\n",
    "\n",
    "\n",
    "annotation_id = 1\n",
    "image_id = 1"
   ]
  },
  {
   "cell_type": "code",
   "execution_count": null,
   "id": "68b55b18",
   "metadata": {},
   "outputs": [
    {
     "name": "stderr",
     "output_type": "stream",
     "text": [
      " 50%|█████     | 1/2 [00:32<00:32, 32.94s/it]"
     ]
    },
    {
     "name": "stdout",
     "output_type": "stream",
     "text": [
      "\n",
      "Processing image: 001_png_jpg.rf.1eb25691beb17dfdbdf6ae9dcfb447f2.jpg\n"
     ]
    },
    {
     "name": "stderr",
     "output_type": "stream",
     "text": [
      "100%|██████████| 2/2 [01:05<00:00, 32.95s/it]"
     ]
    },
    {
     "name": "stdout",
     "output_type": "stream",
     "text": [
      "\n",
      "Processing image: 002_png_jpg.rf.5e353d1fd31ef6d233eddbbaae3d82e3.jpg\n"
     ]
    },
    {
     "name": "stderr",
     "output_type": "stream",
     "text": [
      "\n"
     ]
    },
    {
     "ename": "",
     "evalue": "",
     "output_type": "error",
     "traceback": [
      "\u001b[1;31mThe Kernel crashed while executing code in the current cell or a previous cell. \n",
      "\u001b[1;31mPlease review the code in the cell(s) to identify a possible cause of the failure. \n",
      "\u001b[1;31mClick <a href='https://aka.ms/vscodeJupyterKernelCrash'>here</a> for more info. \n",
      "\u001b[1;31mView Jupyter <a href='command:jupyter.viewOutput'>log</a> for further details."
     ]
    }
   ],
   "source": [
    "# --- Process each image ---\n",
    "for fname in tqdm(os.listdir(image_folder)):\n",
    "    if not fname.lower().endswith((\".png\", \".jpg\", \".jpeg\")):\n",
    "        continue\n",
    "\n",
    "    image_path = os.path.join(image_folder, fname)\n",
    "    image_bgr = cv2.imread(image_path)\n",
    "    image_rgb = cv2.cvtColor(image_bgr, cv2.COLOR_BGR2RGB)\n",
    "    h, w = image_rgb.shape[:2]\n",
    "\n",
    "    # Set up predictor\n",
    "    predictor.set_image(image_rgb)\n",
    "    points = []\n",
    "    labels = []\n",
    "\n",
    "    def click_event(event, x, y, flags, param):\n",
    "        if event == cv2.EVENT_LBUTTONDOWN:\n",
    "            points.append([x, y])\n",
    "            labels.append(1)\n",
    "            cv2.circle(image_bgr, (x, y), 5, (0, 255, 0), -1)\n",
    "            cv2.imshow(\"Click points, press 's' to segment\", image_bgr)\n",
    "\n",
    "    print(f\"\\nProcessing image: {fname}\")\n",
    "    cv2.imshow(\"Click points, press 's' to segment\", image_bgr)\n",
    "    cv2.setMouseCallback(\"Click points, press 's' to segment\", click_event)"
   ]
  },
  {
   "cell_type": "code",
   "execution_count": null,
   "id": "f75b7df9",
   "metadata": {},
   "outputs": [],
   "source": []
  }
 ],
 "metadata": {
  "kernelspec": {
   "display_name": "Python 3",
   "language": "python",
   "name": "python3"
  },
  "language_info": {
   "codemirror_mode": {
    "name": "ipython",
    "version": 3
   },
   "file_extension": ".py",
   "mimetype": "text/x-python",
   "name": "python",
   "nbconvert_exporter": "python",
   "pygments_lexer": "ipython3",
   "version": "3.10.6"
  }
 },
 "nbformat": 4,
 "nbformat_minor": 5
}
