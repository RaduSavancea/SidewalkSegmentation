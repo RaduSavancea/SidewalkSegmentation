{
 "cells": [
  {
   "cell_type": "code",
   "execution_count": 1,
   "id": "80c833bf",
   "metadata": {},
   "outputs": [],
   "source": [
    "import os\n",
    "import cv2\n",
    "import json\n",
    "import torch\n",
    "import numpy as np\n",
    "from tqdm import tqdm\n",
    "from datetime import datetime\n",
    "from segment_anything import sam_model_registry, SamPredictor\n",
    "from pycocotools import mask as mask_utils\n"
   ]
  },
  {
   "cell_type": "code",
   "execution_count": 2,
   "id": "8725a608",
   "metadata": {},
   "outputs": [
    {
     "name": "stdout",
     "output_type": "stream",
     "text": [
      "False\n"
     ]
    }
   ],
   "source": [
    "print(torch.cuda.is_available())"
   ]
  },
  {
   "cell_type": "code",
   "execution_count": 3,
   "id": "da4df807",
   "metadata": {},
   "outputs": [],
   "source": [
    "image_folder = r\"C:\\Users\\Home\\Sidewalk\\IMAGE_FOLDER\"\n",
    "checkpoint_path = r\"C:\\Users\\Home\\Sidewalk\\PATH_TO_MODEL\\sam_vit_h_4b8939.pth\"\n",
    "model_type = \"vit_h\"\n",
    "output_root = \"segmentation_outputs\"\n",
    "os.makedirs(output_root, exist_ok=True)"
   ]
  },
  {
   "cell_type": "code",
   "execution_count": 4,
   "id": "7f97fd87",
   "metadata": {},
   "outputs": [],
   "source": [
    "device = \"cuda\" if torch.cuda.is_available() else \"cpu\"\n",
    "sam = sam_model_registry[model_type](checkpoint=checkpoint_path)\n",
    "sam.to(device)\n",
    "predictor = SamPredictor(sam)"
   ]
  },
  {
   "cell_type": "code",
   "execution_count": 5,
   "id": "0e3b9bb9",
   "metadata": {},
   "outputs": [],
   "source": [
    "def binary_mask_to_rle(mask):\n",
    "    rle = mask_utils.encode(np.asfortranarray(mask.astype(np.uint8)))\n",
    "    rle[\"counts\"] = rle[\"counts\"].decode(\"utf-8\")  # bytes to str for JSON\n",
    "    return rle\n",
    "\n",
    "\n",
    "annotation_id = 1\n",
    "image_id = 1"
   ]
  },
  {
   "cell_type": "code",
   "execution_count": 6,
   "id": "6e113852",
   "metadata": {},
   "outputs": [
    {
     "name": "stderr",
     "output_type": "stream",
     "text": [
      "  0%|          | 0/2 [00:00<?, ?it/s]"
     ]
    },
    {
     "name": "stderr",
     "output_type": "stream",
     "text": [
      "  0%|          | 0/2 [00:35<?, ?it/s]"
     ]
    },
    {
     "name": "stdout",
     "output_type": "stream",
     "text": [
      "\n",
      "Processing image: 001_png_jpg.rf.1eb25691beb17dfdbdf6ae9dcfb447f2.jpg\n"
     ]
    },
    {
     "name": "stderr",
     "output_type": "stream",
     "text": [
      "\n"
     ]
    },
    {
     "ename": "error",
     "evalue": "OpenCV(4.11.0) D:\\a\\opencv-python\\opencv-python\\opencv\\modules\\highgui\\src\\window_w32.cpp:2546: error: (-27:Null pointer) NULL window: 'Click points, press 's' to segment' in function 'cvSetMouseCallback'\n",
     "output_type": "error",
     "traceback": [
      "\u001b[1;31m---------------------------------------------------------------------------\u001b[0m",
      "\u001b[1;31merror\u001b[0m                                     Traceback (most recent call last)",
      "Cell \u001b[1;32mIn[6], line 25\u001b[0m\n\u001b[0;32m     23\u001b[0m \u001b[38;5;28mprint\u001b[39m(\u001b[38;5;124mf\u001b[39m\u001b[38;5;124m\"\u001b[39m\u001b[38;5;130;01m\\n\u001b[39;00m\u001b[38;5;124mProcessing image: \u001b[39m\u001b[38;5;132;01m{\u001b[39;00mfname\u001b[38;5;132;01m}\u001b[39;00m\u001b[38;5;124m\"\u001b[39m)\n\u001b[0;32m     24\u001b[0m cv2\u001b[38;5;241m.\u001b[39mimshow(\u001b[38;5;124m\"\u001b[39m\u001b[38;5;124mClick points, press \u001b[39m\u001b[38;5;124m'\u001b[39m\u001b[38;5;124ms\u001b[39m\u001b[38;5;124m'\u001b[39m\u001b[38;5;124m to segment or \u001b[39m\u001b[38;5;124m'\u001b[39m\u001b[38;5;124mk\u001b[39m\u001b[38;5;124m'\u001b[39m\u001b[38;5;124m to skip \u001b[39m\u001b[38;5;124m\"\u001b[39m, image_bgr)\n\u001b[1;32m---> 25\u001b[0m \u001b[43mcv2\u001b[49m\u001b[38;5;241;43m.\u001b[39;49m\u001b[43msetMouseCallback\u001b[49m\u001b[43m(\u001b[49m\u001b[38;5;124;43m\"\u001b[39;49m\u001b[38;5;124;43mClick points, press \u001b[39;49m\u001b[38;5;124;43m'\u001b[39;49m\u001b[38;5;124;43ms\u001b[39;49m\u001b[38;5;124;43m'\u001b[39;49m\u001b[38;5;124;43m to segment\u001b[39;49m\u001b[38;5;124;43m\"\u001b[39;49m\u001b[43m,\u001b[49m\u001b[43m \u001b[49m\u001b[43mclick_event\u001b[49m\u001b[43m)\u001b[49m\n\u001b[0;32m     29\u001b[0m \u001b[38;5;66;03m# Wait for 's' to segment or 'ESC' to exit\u001b[39;00m\n\u001b[0;32m     30\u001b[0m \u001b[38;5;28;01mwhile\u001b[39;00m \u001b[38;5;28;01mTrue\u001b[39;00m:\n",
      "\u001b[1;31merror\u001b[0m: OpenCV(4.11.0) D:\\a\\opencv-python\\opencv-python\\opencv\\modules\\highgui\\src\\window_w32.cpp:2546: error: (-27:Null pointer) NULL window: 'Click points, press 's' to segment' in function 'cvSetMouseCallback'\n"
     ]
    }
   ],
   "source": [
    "for fname in tqdm(os.listdir(image_folder)):\n",
    "    if not fname.lower().endswith((\".png\", \".jpg\", \".jpeg\")):\n",
    "        continue\n",
    "\n",
    "    while True:\n",
    "        image_path = os.path.join(image_folder, fname)\n",
    "        image_bgr = cv2.imread(image_path)\n",
    "        image_rgb = cv2.cvtColor(image_bgr, cv2.COLOR_BGR2RGB)\n",
    "        h, w = image_rgb.shape[:2]\n",
    "\n",
    "        predictor.set_image(image_rgb)\n",
    "\n",
    "        click_points = []\n",
    "        click_labels = []\n",
    "\n",
    "        def click_event(event, x, y, flags, param):\n",
    "            if event == cv2.EVENT_LBUTTONDOWN:\n",
    "                click_points.append([x, y])\n",
    "                click_labels.append(1)\n",
    "                cv2.circle(image_bgr, (x, y), 5, (0, 255, 0), -1)\n",
    "                cv2.imshow(\"Click points, press 's' to segment\", image_bgr)\n",
    "\n",
    "        print(f\"\\nProcessing image: {fname}\")\n",
    "        cv2.imshow(\"Click points, press 's' to segment or 'k' to skip \", image_bgr)\n",
    "        cv2.setMouseCallback(\"Click points, press 's' to segment\", click_event)\n",
    "\n",
    "\n",
    "\n",
    "        # Wait for 's' to segment or 'ESC' to exit\n",
    "        while True:\n",
    "            key = cv2.waitKey(1)\n",
    "            if key == ord(\"s\") and click_points:\n",
    "                break\n",
    "            elif key == 27:\n",
    "                cv2.destroyAllWindows()\n",
    "                exit()\n",
    "\n",
    "        input_points = np.array(click_points)\n",
    "        input_labels = np.array(click_labels)\n",
    "        masks, scores, logits = predictor.predict(\n",
    "            point_coords=input_points,\n",
    "            point_labels=input_labels,\n",
    "            multimask_output=False,\n",
    "        )\n",
    "        mask = masks[0]\n",
    "\n",
    "        result_overlay = image_bgr.copy()\n",
    "        result_overlay[mask] = [0, 255, 0]\n",
    "\n",
    "        # Show the result and ask user to accept or retry\n",
    "        cv2.imshow(\"Result - press 'r' to retry or any key to accept\", result_overlay)\n",
    "        key = cv2.waitKey(0)\n",
    "        cv2.destroyAllWindows()\n",
    "\n",
    "        if key == ord(\"k\"):\n",
    "            print(\"⏭️ Skipping this image...\")\n",
    "            break  # Skip and go to next image\n",
    "\n",
    "        if key == ord(\"r\"):\n",
    "            print(\"🔁 Retrying segmentation for this image...\")\n",
    "            continue  # Re-run the loop for the same image\n",
    "\n",
    "        # --- Save results ---\n",
    "        base_name = os.path.splitext(fname)[0]\n",
    "        overlay_path = os.path.join(output_root, f\"{base_name}_segmented.png\")\n",
    "        cv2.imwrite(overlay_path, result_overlay)\n",
    "\n",
    "        coco_data = {\n",
    "            \"info\": {\n",
    "                \"description\": \"Manual SAM Segmentation\",\n",
    "                \"date_created\": datetime.now().isoformat(),\n",
    "            },\n",
    "            \"images\": [{\"id\": image_id, \"file_name\": fname, \"width\": w, \"height\": h}],\n",
    "            \"annotations\": [\n",
    "                {\n",
    "                    \"id\": annotation_id,\n",
    "                    \"image_id\": image_id,\n",
    "                    \"category_id\": 1,\n",
    "                    \"segmentation\": binary_mask_to_rle(mask),\n",
    "                    \"area\": int(mask.sum()),\n",
    "                    \"bbox\": list(cv2.boundingRect(mask.astype(np.uint8))),\n",
    "                    \"iscrowd\": 0,\n",
    "                }\n",
    "            ],\n",
    "            \"categories\": [{\"id\": 1, \"name\": \"object\"}],\n",
    "        }\n",
    "\n",
    "        json_path = os.path.join(output_root, f\"{base_name}.json\")\n",
    "        with open(json_path, \"w\") as f:\n",
    "            json.dump(coco_data, f)\n",
    "\n",
    "        annotation_id += 1\n",
    "        image_id += 1\n",
    "        break  # Move to next image\n",
    "\n",
    "print(\"\\n✅ All segmentations complete. JSON and segmented images saved.\")"
   ]
  }
 ],
 "metadata": {
  "kernelspec": {
   "display_name": "Python 3",
   "language": "python",
   "name": "python3"
  },
  "language_info": {
   "codemirror_mode": {
    "name": "ipython",
    "version": 3
   },
   "file_extension": ".py",
   "mimetype": "text/x-python",
   "name": "python",
   "nbconvert_exporter": "python",
   "pygments_lexer": "ipython3",
   "version": "3.10.6"
  }
 },
 "nbformat": 4,
 "nbformat_minor": 5
}
