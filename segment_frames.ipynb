{
 "cells": [
  {
   "cell_type": "code",
   "id": "80c833bf",
   "metadata": {
    "ExecuteTime": {
     "end_time": "2025-05-20T17:20:51.323958Z",
     "start_time": "2025-05-20T17:20:45.255848Z"
    }
   },
   "source": [
    "import os\n",
    "import cv2\n",
    "import json\n",
    "import torch\n",
    "import numpy as np\n",
    "from tqdm import tqdm\n",
    "from datetime import datetime\n",
    "from segment_anything import sam_model_registry, SamPredictor\n",
    "from pycocotools import mask as mask_utils\n",
    "import urllib.request"
   ],
   "outputs": [],
   "execution_count": 1
  },
  {
   "cell_type": "code",
   "id": "8725a608",
   "metadata": {
    "ExecuteTime": {
     "end_time": "2025-05-20T17:20:51.348040Z",
     "start_time": "2025-05-20T17:20:51.342971Z"
    }
   },
   "source": [
    "print(torch.cuda.is_available())"
   ],
   "outputs": [
    {
     "name": "stdout",
     "output_type": "stream",
     "text": [
      "False\n"
     ]
    }
   ],
   "execution_count": 2
  },
  {
   "metadata": {
    "ExecuteTime": {
     "end_time": "2025-05-20T17:20:51.728791Z",
     "start_time": "2025-05-20T17:20:51.720924Z"
    }
   },
   "cell_type": "code",
   "source": [
    "# Define checkpoint path and download url\n",
    "checkpoint_path = os.path.join(\"checkpoints\", \"sam_vit_h_4b8939.pth\")\n",
    "checkpoint_url = \"https://dl.fbaipublicfiles.com/segment_anything/sam_vit_h_4b8939.pth\"\n",
    "\n",
    "# Make directory if it doesn't exist\n",
    "os.makedirs(os.path.dirname(checkpoint_path), exist_ok=True)\n",
    "\n",
    "# Download if the file is missing\n",
    "if not os.path.exists(checkpoint_path):\n",
    "    print(f\"Downloading SAM checkpoint from {checkpoint_url}...\")\n",
    "    urllib.request.urlretrieve(checkpoint_url, checkpoint_path)\n",
    "    print(\"Download complete.\")\n",
    "else:\n",
    "    print(\"Checkpoint already exists at:\", checkpoint_path)"
   ],
   "id": "aae2685930a098b6",
   "outputs": [
    {
     "name": "stdout",
     "output_type": "stream",
     "text": [
      "Checkpoint already exists at: checkpoints\\sam_vit_h_4b8939.pth\n"
     ]
    }
   ],
   "execution_count": 3
  },
  {
   "metadata": {
    "ExecuteTime": {
     "end_time": "2025-05-20T17:20:51.753683Z",
     "start_time": "2025-05-20T17:20:51.748371Z"
    }
   },
   "cell_type": "code",
   "source": [
    "image_folder = r\"Dataset_resized\"\n",
    "model_type = \"vit_h\"\n",
    "output_root = \"segmentation_outputs\"\n",
    "os.makedirs(output_root, exist_ok=True)"
   ],
   "id": "da4df807",
   "outputs": [],
   "execution_count": 4
  },
  {
   "cell_type": "code",
   "id": "7f97fd87",
   "metadata": {
    "ExecuteTime": {
     "end_time": "2025-05-20T17:21:08.666288Z",
     "start_time": "2025-05-20T17:20:51.917917Z"
    }
   },
   "source": [
    "device = \"cuda\" if torch.cuda.is_available() else \"cpu\"\n",
    "sam = sam_model_registry[model_type](checkpoint=checkpoint_path)\n",
    "sam.to(device)\n",
    "predictor = SamPredictor(sam)"
   ],
   "outputs": [],
   "execution_count": 5
  },
  {
   "cell_type": "code",
   "id": "604b2e0f",
   "metadata": {
    "ExecuteTime": {
     "end_time": "2025-05-20T17:21:09.008036Z",
     "start_time": "2025-05-20T17:21:08.901134Z"
    }
   },
   "source": [
    "# Track processed images\n",
    "processed_file = os.path.join(output_root, \"processed_images.json\")\n",
    "if os.path.exists(processed_file):\n",
    "    with open(processed_file, \"r\") as f:\n",
    "        processed_images = set(json.load(f))\n",
    "else:\n",
    "    processed_images = set()"
   ],
   "outputs": [],
   "execution_count": 6
  },
  {
   "cell_type": "code",
   "id": "0e3b9bb9",
   "metadata": {
    "ExecuteTime": {
     "end_time": "2025-05-20T17:21:09.111889Z",
     "start_time": "2025-05-20T17:21:09.061123Z"
    }
   },
   "source": [
    "def binary_mask_to_rle(mask):\n",
    "    rle = mask_utils.encode(np.asfortranarray(mask.astype(np.uint8)))\n",
    "    rle[\"counts\"] = rle[\"counts\"].decode(\"utf-8\")  # bytes to str for JSON\n",
    "    return rle\n",
    "\n",
    "\n",
    "annotation_id = 1\n",
    "image_id = 1"
   ],
   "outputs": [],
   "execution_count": 7
  },
  {
   "cell_type": "code",
   "id": "6e113852",
   "metadata": {
    "ExecuteTime": {
     "end_time": "2025-05-20T21:58:33.476494Z",
     "start_time": "2025-05-20T17:21:09.203288Z"
    }
   },
   "source": [
    "# i = 0\n",
    "for fname in tqdm(os.listdir(image_folder)):\n",
    "    if not fname.lower().endswith((\".png\", \".jpg\", \".jpeg\")):\n",
    "        continue\n",
    "\n",
    "    if fname in processed_images:\n",
    "        continue\n",
    "\n",
    "    # i += 1\n",
    "    # if i < 100:\n",
    "    #     continue\n",
    "\n",
    "    while True:\n",
    "        image_path = os.path.join(image_folder, fname)\n",
    "        image_bgr = cv2.imread(image_path)\n",
    "        image_rgb = cv2.cvtColor(image_bgr, cv2.COLOR_BGR2RGB)\n",
    "        h, w = image_rgb.shape[:2]\n",
    "\n",
    "        predictor.set_image(image_rgb)\n",
    "\n",
    "        click_points = []\n",
    "        click_labels = []\n",
    "        removal_points = []\n",
    "        removal_labels = []\n",
    "\n",
    "        def click_event(event, x, y, flags, param):\n",
    "            if event == cv2.EVENT_LBUTTONDOWN:\n",
    "                click_points.append([x, y])\n",
    "                click_labels.append(1)\n",
    "                cv2.circle(image_bgr, (x, y), 5, (0, 255, 0), -1)\n",
    "                cv2.imshow(\"Click points, press 's' to segment or 'k' to skip\", image_bgr)\n",
    "            if event == cv2.EVENT_RBUTTONDOWN:\n",
    "                removal_points.append([x, y])\n",
    "                removal_labels.append(0)\n",
    "                cv2.circle(image_bgr, (x, y), 5, (0, 0, 255), -1)\n",
    "                cv2.imshow(\n",
    "                    \"Click points, press 's' to segment or 'k' to skip\", image_bgr\n",
    "                )\n",
    "\n",
    "        print(f\"\\nProcessing image: {fname}\")\n",
    "        cv2.imshow(\"Click points, press 's' to segment or 'k' to skip\", image_bgr)\n",
    "        cv2.setMouseCallback(\"Click points, press 's' to segment or 'k' to skip\", click_event)\n",
    "\n",
    "        key = None\n",
    "        # Wait for 's' to segment or 'k' to skip or 'ESC' to exit\n",
    "        while True:\n",
    "            key = cv2.waitKey(1)\n",
    "            if key == ord(\"s\") and click_points:\n",
    "                break\n",
    "            if key == ord(\"k\"):\n",
    "                print(\"⏭️ Skipping this image...\")\n",
    "                break\n",
    "            elif key == 27:\n",
    "                cv2.destroyAllWindows()\n",
    "                exit()\n",
    "\n",
    "        if key == ord(\"k\"):\n",
    "            break  # Move to next image\n",
    "\n",
    "        input_points = np.array(click_points + removal_points)\n",
    "        input_labels = np.array(click_labels + removal_labels)\n",
    "        masks, scores, logits = predictor.predict(\n",
    "            point_coords=input_points,\n",
    "            point_labels=input_labels,\n",
    "            multimask_output=False,\n",
    "        )\n",
    "        mask = masks[0]\n",
    "\n",
    "        result_overlay = image_bgr.copy()\n",
    "        result_overlay[mask] = [0, 255, 0]\n",
    "\n",
    "        # Show result and ask user to retry or accept\n",
    "        cv2.imshow(\"Result - press 'r' to retry or any key to accept\", result_overlay)\n",
    "        key = cv2.waitKey(0)\n",
    "        cv2.destroyAllWindows()\n",
    "\n",
    "        if key == ord(\"r\"):\n",
    "            print(\"🔁 Retrying segmentation for this image...\")\n",
    "            continue  # Re-do the same image\n",
    "\n",
    "        # Save segmentation result\n",
    "        base_name = os.path.splitext(fname)[0]\n",
    "        overlay_path = os.path.join(output_root, f\"{base_name}_segmented.png\")\n",
    "        cv2.imwrite(overlay_path, result_overlay)\n",
    "\n",
    "        coco_data = {\n",
    "            \"info\": {\n",
    "                \"description\": \"Manual SAM Segmentation\",\n",
    "                \"date_created\": datetime.now().isoformat(),\n",
    "            },\n",
    "            \"images\": [{\"id\": image_id, \"file_name\": fname, \"width\": w, \"height\": h}],\n",
    "            \"annotations\": [\n",
    "                {\n",
    "                    \"id\": annotation_id,\n",
    "                    \"image_id\": image_id,\n",
    "                    \"category_id\": 1,\n",
    "                    \"segmentation\": binary_mask_to_rle(mask),\n",
    "                    \"area\": int(mask.sum()),\n",
    "                    \"bbox\": list(cv2.boundingRect(mask.astype(np.uint8))),\n",
    "                    \"iscrowd\": 0,\n",
    "                }\n",
    "            ],\n",
    "            \"categories\": [{\"id\": 1, \"name\": \"object\"}],\n",
    "        }\n",
    "\n",
    "        json_path = os.path.join(output_root, f\"{base_name}.json\")\n",
    "        with open(json_path, \"w\") as f:\n",
    "            json.dump(coco_data, f)\n",
    "\n",
    "        # ✅ Save processed image info\n",
    "        processed_images.add(fname)\n",
    "        with open(processed_file, \"w\") as f:\n",
    "            json.dump(list(processed_images), f)\n",
    "\n",
    "        annotation_id += 1\n",
    "        image_id += 1\n",
    "        break  # Move to next image\n",
    "\n",
    "\n",
    "print(\"\\n✅ All segmentations complete. JSON and segmented images saved.\")"
   ],
   "outputs": [
    {
     "name": "stderr",
     "output_type": "stream",
     "text": [
      "  0%|          | 0/607 [00:00<?, ?it/s]"
     ]
    },
    {
     "name": "stdout",
     "output_type": "stream",
     "text": [
      "\n",
      "Processing image: 135_jpg.rf.bf9542f31ad0a4d2fcdbef9390d055f5.jpg\n",
      "🔁 Retrying segmentation for this image...\n",
      "\n",
      "Processing image: 135_jpg.rf.bf9542f31ad0a4d2fcdbef9390d055f5.jpg\n",
      "🔁 Retrying segmentation for this image...\n",
      "\n",
      "Processing image: 135_jpg.rf.bf9542f31ad0a4d2fcdbef9390d055f5.jpg\n"
     ]
    },
    {
     "name": "stderr",
     "output_type": "stream",
     "text": [
      "  7%|▋         | 41/607 [18:51<4:20:25, 27.61s/it]"
     ]
    },
    {
     "name": "stdout",
     "output_type": "stream",
     "text": [
      "\n",
      "Processing image: 137_jpg.rf.b377cd40dea15934f2d2ca0f4ddd937e.jpg\n"
     ]
    },
    {
     "name": "stderr",
     "output_type": "stream",
     "text": [
      "  7%|▋         | 43/607 [20:26<4:31:29, 28.88s/it]"
     ]
    },
    {
     "name": "stdout",
     "output_type": "stream",
     "text": [
      "\n",
      "Processing image: 20250515_150052.jpg\n",
      "🔁 Retrying segmentation for this image...\n",
      "\n",
      "Processing image: 20250515_150052.jpg\n",
      "🔁 Retrying segmentation for this image...\n",
      "\n",
      "Processing image: 20250515_150052.jpg\n",
      "🔁 Retrying segmentation for this image...\n",
      "\n",
      "Processing image: 20250515_150052.jpg\n",
      "🔁 Retrying segmentation for this image...\n",
      "\n",
      "Processing image: 20250515_150052.jpg\n"
     ]
    },
    {
     "name": "stderr",
     "output_type": "stream",
     "text": [
      " 14%|█▍        | 86/607 [27:36<2:21:30, 16.30s/it]"
     ]
    },
    {
     "name": "stdout",
     "output_type": "stream",
     "text": [
      "\n",
      "Processing image: 20250516_151635.jpg\n",
      "🔁 Retrying segmentation for this image...\n",
      "\n",
      "Processing image: 20250516_151635.jpg\n"
     ]
    },
    {
     "name": "stderr",
     "output_type": "stream",
     "text": [
      " 17%|█▋        | 101/607 [30:55<2:10:59, 15.53s/it]"
     ]
    },
    {
     "name": "stdout",
     "output_type": "stream",
     "text": [
      "\n",
      "Processing image: 20250516_151701.jpg\n",
      "🔁 Retrying segmentation for this image...\n",
      "\n",
      "Processing image: 20250516_151701.jpg\n"
     ]
    },
    {
     "name": "stderr",
     "output_type": "stream",
     "text": [
      " 17%|█▋        | 103/607 [34:09<2:41:37, 19.24s/it]"
     ]
    },
    {
     "name": "stdout",
     "output_type": "stream",
     "text": [
      "⏭️ Skipping this image...\n",
      "\n",
      "Processing image: 20250516_151739.jpg\n",
      "🔁 Retrying segmentation for this image...\n",
      "\n",
      "Processing image: 20250516_151739.jpg\n"
     ]
    },
    {
     "name": "stderr",
     "output_type": "stream",
     "text": [
      " 17%|█▋        | 104/607 [40:44<4:20:10, 31.03s/it]"
     ]
    },
    {
     "name": "stdout",
     "output_type": "stream",
     "text": [
      "⏭️ Skipping this image...\n",
      "\n",
      "Processing image: 20250516_151915.jpg\n",
      "🔁 Retrying segmentation for this image...\n",
      "\n",
      "Processing image: 20250516_151915.jpg\n"
     ]
    },
    {
     "name": "stderr",
     "output_type": "stream",
     "text": [
      " 17%|█▋        | 106/607 [44:01<5:05:27, 36.58s/it]"
     ]
    },
    {
     "name": "stdout",
     "output_type": "stream",
     "text": [
      "\n",
      "Processing image: 20250516_152304.jpg\n"
     ]
    },
    {
     "name": "stderr",
     "output_type": "stream",
     "text": [
      " 18%|█▊        | 111/607 [45:20<4:23:12, 31.84s/it]"
     ]
    },
    {
     "name": "stdout",
     "output_type": "stream",
     "text": [
      "\n",
      "Processing image: 20250516_152337.jpg\n",
      "🔁 Retrying segmentation for this image...\n",
      "\n",
      "Processing image: 20250516_152337.jpg\n"
     ]
    },
    {
     "name": "stderr",
     "output_type": "stream",
     "text": [
      " 18%|█▊        | 112/607 [49:05<5:59:55, 43.63s/it]"
     ]
    },
    {
     "name": "stdout",
     "output_type": "stream",
     "text": [
      "\n",
      "Processing image: 20250516_153507.jpg\n"
     ]
    },
    {
     "name": "stderr",
     "output_type": "stream",
     "text": [
      " 19%|█▉        | 117/607 [50:30<4:50:33, 35.58s/it]"
     ]
    },
    {
     "name": "stdout",
     "output_type": "stream",
     "text": [
      "\n",
      "Processing image: 20250516_154217.jpg\n",
      "🔁 Retrying segmentation for this image...\n",
      "\n",
      "Processing image: 20250516_154217.jpg\n"
     ]
    },
    {
     "name": "stderr",
     "output_type": "stream",
     "text": [
      " 20%|██        | 122/607 [58:34<7:17:05, 54.07s/it]"
     ]
    },
    {
     "name": "stdout",
     "output_type": "stream",
     "text": [
      "\n",
      "Processing image: 20250516_154226.jpg\n"
     ]
    },
    {
     "name": "stderr",
     "output_type": "stream",
     "text": [
      " 20%|██        | 123/607 [1:00:00<7:36:33, 56.60s/it]"
     ]
    },
    {
     "name": "stdout",
     "output_type": "stream",
     "text": [
      "\n",
      "Processing image: 20250516_154412.jpg\n"
     ]
    },
    {
     "name": "stderr",
     "output_type": "stream",
     "text": [
      " 20%|██        | 124/607 [1:01:16<7:51:23, 58.56s/it]"
     ]
    },
    {
     "name": "stdout",
     "output_type": "stream",
     "text": [
      "\n",
      "Processing image: 20250516_154451.jpg\n",
      "🔁 Retrying segmentation for this image...\n",
      "\n",
      "Processing image: 20250516_154451.jpg\n",
      "🔁 Retrying segmentation for this image...\n",
      "\n",
      "Processing image: 20250516_154451.jpg\n"
     ]
    },
    {
     "name": "stderr",
     "output_type": "stream",
     "text": [
      " 21%|██        | 126/607 [1:05:17<9:41:30, 72.54s/it]"
     ]
    },
    {
     "name": "stdout",
     "output_type": "stream",
     "text": [
      "⏭️ Skipping this image...\n",
      "\n",
      "Processing image: 20250516_154514.jpg\n"
     ]
    },
    {
     "name": "stderr",
     "output_type": "stream",
     "text": [
      " 21%|██        | 127/607 [1:21:48<26:39:57, 200.00s/it]"
     ]
    },
    {
     "name": "stdout",
     "output_type": "stream",
     "text": [
      "\n",
      "Processing image: 20250516_155209.jpg\n",
      "🔁 Retrying segmentation for this image...\n",
      "\n",
      "Processing image: 20250516_155209.jpg\n",
      "🔁 Retrying segmentation for this image...\n",
      "\n",
      "Processing image: 20250516_155209.jpg\n",
      "🔁 Retrying segmentation for this image...\n",
      "\n",
      "Processing image: 20250516_155209.jpg\n"
     ]
    },
    {
     "name": "stderr",
     "output_type": "stream",
     "text": [
      " 21%|██        | 128/607 [1:49:11<58:23:34, 438.86s/it]"
     ]
    },
    {
     "name": "stdout",
     "output_type": "stream",
     "text": [
      "⏭️ Skipping this image...\n",
      "\n",
      "Processing image: 20250516_155520.jpg\n",
      "🔁 Retrying segmentation for this image...\n",
      "\n",
      "Processing image: 20250516_155520.jpg\n"
     ]
    },
    {
     "name": "stderr",
     "output_type": "stream",
     "text": [
      " 21%|██▏       | 130/607 [2:09:18<65:08:58, 491.70s/it]"
     ]
    },
    {
     "name": "stdout",
     "output_type": "stream",
     "text": [
      "⏭️ Skipping this image...\n",
      "\n",
      "Processing image: 20250516_155546.jpg\n",
      "🔁 Retrying segmentation for this image...\n",
      "\n",
      "Processing image: 20250516_155546.jpg\n",
      "🔁 Retrying segmentation for this image...\n",
      "\n",
      "Processing image: 20250516_155546.jpg\n",
      "🔁 Retrying segmentation for this image...\n",
      "\n",
      "Processing image: 20250516_155546.jpg\n"
     ]
    },
    {
     "name": "stderr",
     "output_type": "stream",
     "text": [
      " 22%|██▏       | 131/607 [2:33:59<89:24:39, 676.22s/it]"
     ]
    },
    {
     "name": "stdout",
     "output_type": "stream",
     "text": [
      "\n",
      "Processing image: 20250516_155624.jpg\n"
     ]
    },
    {
     "name": "stderr",
     "output_type": "stream",
     "text": [
      " 22%|██▏       | 132/607 [2:35:18<72:37:50, 550.46s/it]"
     ]
    },
    {
     "name": "stdout",
     "output_type": "stream",
     "text": [
      "\n",
      "Processing image: 20250516_155655.jpg\n",
      "🔁 Retrying segmentation for this image...\n",
      "\n",
      "Processing image: 20250516_155655.jpg\n"
     ]
    },
    {
     "name": "stderr",
     "output_type": "stream",
     "text": [
      " 22%|██▏       | 134/607 [2:56:57<77:13:45, 587.79s/it]"
     ]
    },
    {
     "name": "stdout",
     "output_type": "stream",
     "text": [
      "\n",
      "Processing image: 20250516_155739.jpg\n"
     ]
    },
    {
     "name": "stderr",
     "output_type": "stream",
     "text": [
      " 22%|██▏       | 135/607 [2:58:02<62:33:07, 477.09s/it]"
     ]
    },
    {
     "name": "stdout",
     "output_type": "stream",
     "text": [
      "\n",
      "Processing image: 20250516_155803.jpg\n"
     ]
    },
    {
     "name": "stderr",
     "output_type": "stream",
     "text": [
      " 22%|██▏       | 136/607 [3:00:11<51:52:28, 396.49s/it]"
     ]
    },
    {
     "name": "stdout",
     "output_type": "stream",
     "text": [
      "\n",
      "Processing image: 20250516_160635.jpg\n"
     ]
    },
    {
     "name": "stderr",
     "output_type": "stream",
     "text": [
      " 23%|██▎       | 140/607 [3:01:15<23:17:54, 179.60s/it]"
     ]
    },
    {
     "name": "stdout",
     "output_type": "stream",
     "text": [
      "\n",
      "Processing image: 20250516_160716.jpg\n",
      "🔁 Retrying segmentation for this image...\n",
      "\n",
      "Processing image: 20250516_160716.jpg\n",
      "🔁 Retrying segmentation for this image...\n",
      "\n",
      "Processing image: 20250516_160716.jpg\n",
      "🔁 Retrying segmentation for this image...\n",
      "\n",
      "Processing image: 20250516_160716.jpg\n",
      "🔁 Retrying segmentation for this image...\n",
      "\n",
      "Processing image: 20250516_160716.jpg\n",
      "🔁 Retrying segmentation for this image...\n",
      "\n",
      "Processing image: 20250516_160716.jpg\n"
     ]
    },
    {
     "name": "stderr",
     "output_type": "stream",
     "text": [
      " 24%|██▎       | 143/607 [3:25:44<38:17:45, 297.12s/it]"
     ]
    },
    {
     "name": "stdout",
     "output_type": "stream",
     "text": [
      "\n",
      "Processing image: 20250516_160730.jpg\n",
      "🔁 Retrying segmentation for this image...\n",
      "\n",
      "Processing image: 20250516_160730.jpg\n",
      "🔁 Retrying segmentation for this image...\n",
      "\n",
      "Processing image: 20250516_160730.jpg\n",
      "🔁 Retrying segmentation for this image...\n",
      "\n",
      "Processing image: 20250516_160730.jpg\n"
     ]
    },
    {
     "name": "stderr",
     "output_type": "stream",
     "text": [
      " 24%|██▎       | 144/607 [3:35:57<44:25:00, 345.36s/it]"
     ]
    },
    {
     "name": "stdout",
     "output_type": "stream",
     "text": [
      "⏭️ Skipping this image...\n",
      "\n",
      "Processing image: 20250516_160801.jpg\n",
      "🔁 Retrying segmentation for this image...\n",
      "\n",
      "Processing image: 20250516_160801.jpg\n",
      "🔁 Retrying segmentation for this image...\n",
      "\n",
      "Processing image: 20250516_160801.jpg\n",
      "🔁 Retrying segmentation for this image...\n",
      "\n",
      "Processing image: 20250516_160801.jpg\n",
      "🔁 Retrying segmentation for this image...\n",
      "\n",
      "Processing image: 20250516_160801.jpg\n"
     ]
    },
    {
     "name": "stderr",
     "output_type": "stream",
     "text": [
      " 24%|██▍       | 145/607 [4:00:26<70:11:12, 546.91s/it]"
     ]
    },
    {
     "name": "stdout",
     "output_type": "stream",
     "text": [
      "⏭️ Skipping this image...\n"
     ]
    },
    {
     "name": "stderr",
     "output_type": "stream",
     "text": [
      " 24%|██▍       | 146/607 [4:01:23<57:15:13, 447.10s/it]"
     ]
    },
    {
     "name": "stdout",
     "output_type": "stream",
     "text": [
      "\n",
      "Processing image: 20250516_160828.jpg\n",
      "⏭️ Skipping this image...\n"
     ]
    },
    {
     "name": "stderr",
     "output_type": "stream",
     "text": [
      " 24%|██▍       | 147/607 [4:02:22<45:56:27, 359.54s/it]"
     ]
    },
    {
     "name": "stdout",
     "output_type": "stream",
     "text": [
      "\n",
      "Processing image: 20250516_161055.jpg\n",
      "⏭️ Skipping this image...\n",
      "\n",
      "Processing image: 20250516_161158.jpg\n",
      "🔁 Retrying segmentation for this image...\n",
      "\n",
      "Processing image: 20250516_161158.jpg\n",
      "🔁 Retrying segmentation for this image...\n",
      "\n",
      "Processing image: 20250516_161158.jpg\n"
     ]
    },
    {
     "name": "stderr",
     "output_type": "stream",
     "text": [
      " 25%|██▍       | 149/607 [4:19:46<53:50:13, 423.17s/it]"
     ]
    },
    {
     "name": "stdout",
     "output_type": "stream",
     "text": [
      "⏭️ Skipping this image...\n",
      "\n",
      "Processing image: 20250516_162108.jpg\n",
      "🔁 Retrying segmentation for this image...\n",
      "\n",
      "Processing image: 20250516_162108.jpg\n"
     ]
    },
    {
     "name": "stderr",
     "output_type": "stream",
     "text": [
      " 25%|██▌       | 152/607 [4:24:32<34:33:57, 273.49s/it]"
     ]
    },
    {
     "name": "stdout",
     "output_type": "stream",
     "text": [
      "\n",
      "Processing image: 20250516_162209.jpg\n"
     ]
    },
    {
     "name": "stderr",
     "output_type": "stream",
     "text": [
      " 25%|██▌       | 153/607 [4:25:44<29:56:43, 237.45s/it]"
     ]
    },
    {
     "name": "stdout",
     "output_type": "stream",
     "text": [
      "\n",
      "Processing image: 20250516_162527.jpg\n"
     ]
    },
    {
     "name": "stderr",
     "output_type": "stream",
     "text": [
      " 26%|██▌       | 156/607 [4:27:20<18:35:44, 148.44s/it]"
     ]
    },
    {
     "name": "stdout",
     "output_type": "stream",
     "text": [
      "\n",
      "Processing image: 20250516_162550.jpg\n"
     ]
    },
    {
     "name": "stderr",
     "output_type": "stream",
     "text": [
      " 26%|██▌       | 157/607 [4:29:08<17:41:34, 141.54s/it]"
     ]
    },
    {
     "name": "stdout",
     "output_type": "stream",
     "text": [
      "\n",
      "Processing image: 20250516_162705.jpg\n"
     ]
    },
    {
     "name": "stderr",
     "output_type": "stream",
     "text": [
      " 26%|██▌       | 158/607 [4:30:31<16:12:26, 129.95s/it]"
     ]
    },
    {
     "name": "stdout",
     "output_type": "stream",
     "text": [
      "\n",
      "Processing image: 20250516_162708.jpg\n"
     ]
    },
    {
     "name": "stderr",
     "output_type": "stream",
     "text": [
      " 26%|██▌       | 159/607 [4:31:34<14:21:45, 115.41s/it]"
     ]
    },
    {
     "name": "stdout",
     "output_type": "stream",
     "text": [
      "\n",
      "Processing image: 20250516_162906.jpg\n"
     ]
    },
    {
     "name": "stderr",
     "output_type": "stream",
     "text": [
      " 26%|██▋       | 160/607 [4:33:20<14:03:16, 113.19s/it]"
     ]
    },
    {
     "name": "stdout",
     "output_type": "stream",
     "text": [
      "\n",
      "Processing image: 20250516_163000.jpg\n",
      "🔁 Retrying segmentation for this image...\n",
      "\n",
      "Processing image: 20250516_163000.jpg\n",
      "🔁 Retrying segmentation for this image...\n",
      "\n",
      "Processing image: 20250516_163000.jpg\n"
     ]
    },
    {
     "name": "stderr",
     "output_type": "stream",
     "text": [
      " 26%|██▋       | 160/607 [4:37:22<12:54:54, 104.01s/it]\n"
     ]
    },
    {
     "ename": "KeyboardInterrupt",
     "evalue": "",
     "output_type": "error",
     "traceback": [
      "\u001B[31m---------------------------------------------------------------------------\u001B[39m",
      "\u001B[31mKeyboardInterrupt\u001B[39m                         Traceback (most recent call last)",
      "\u001B[36mCell\u001B[39m\u001B[36m \u001B[39m\u001B[32mIn[8]\u001B[39m\u001B[32m, line 47\u001B[39m\n\u001B[32m     45\u001B[39m \u001B[38;5;66;03m# Wait for 's' to segment or 'k' to skip or 'ESC' to exit\u001B[39;00m\n\u001B[32m     46\u001B[39m \u001B[38;5;28;01mwhile\u001B[39;00m \u001B[38;5;28;01mTrue\u001B[39;00m:\n\u001B[32m---> \u001B[39m\u001B[32m47\u001B[39m     key = \u001B[43mcv2\u001B[49m\u001B[43m.\u001B[49m\u001B[43mwaitKey\u001B[49m\u001B[43m(\u001B[49m\u001B[32;43m1\u001B[39;49m\u001B[43m)\u001B[49m\n\u001B[32m     48\u001B[39m     \u001B[38;5;28;01mif\u001B[39;00m key == \u001B[38;5;28mord\u001B[39m(\u001B[33m\"\u001B[39m\u001B[33ms\u001B[39m\u001B[33m\"\u001B[39m) \u001B[38;5;129;01mand\u001B[39;00m click_points:\n\u001B[32m     49\u001B[39m         \u001B[38;5;28;01mbreak\u001B[39;00m\n",
      "\u001B[31mKeyboardInterrupt\u001B[39m: "
     ]
    }
   ],
   "execution_count": 8
  }
 ],
 "metadata": {
  "kernelspec": {
   "display_name": "Python 3",
   "language": "python",
   "name": "python3"
  },
  "language_info": {
   "codemirror_mode": {
    "name": "ipython",
    "version": 3
   },
   "file_extension": ".py",
   "mimetype": "text/x-python",
   "name": "python",
   "nbconvert_exporter": "python",
   "pygments_lexer": "ipython3",
   "version": "3.12.3"
  }
 },
 "nbformat": 4,
 "nbformat_minor": 5
}
