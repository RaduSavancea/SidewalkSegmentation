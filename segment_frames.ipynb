{
 "cells": [
  {
   "cell_type": "code",
   "execution_count": 1,
   "id": "80c833bf",
   "metadata": {},
   "outputs": [],
   "source": [
    "import os\n",
    "import cv2\n",
    "import json\n",
    "import torch\n",
    "import numpy as np\n",
    "from tqdm import tqdm\n",
    "from datetime import datetime\n",
    "from segment_anything import sam_model_registry, SamPredictor\n",
    "from pycocotools import mask as mask_utils\n",
    "import urllib.request"
   ]
  },
  {
   "cell_type": "code",
   "execution_count": 2,
   "id": "8725a608",
   "metadata": {},
   "outputs": [
    {
     "name": "stdout",
     "output_type": "stream",
     "text": [
      "True\n"
     ]
    }
   ],
   "source": [
    "print(torch.cuda.is_available())"
   ]
  },
  {
   "cell_type": "code",
   "execution_count": null,
   "id": "aae2685930a098b6",
   "metadata": {},
   "outputs": [
    {
     "name": "stdout",
     "output_type": "stream",
     "text": [
      "Downloading SAM checkpoint from https://dl.fbaipublicfiles.com/segment_anything/sam_vit_h_4b8939.pth...\n"
     ]
    }
   ],
   "source": [
    "# Define checkpoint path and download url\n",
    "checkpoint_path = os.path.join(\"checkpoints\", \"sam_vit_h_4b8939.pth\")\n",
    "checkpoint_url = \"https://dl.fbaipublicfiles.com/segment_anything/sam_vit_h_4b8939.pth\"\n",
    "\n",
    "# Make directory if it doesn't exist\n",
    "os.makedirs(os.path.dirname(checkpoint_path), exist_ok=True)\n",
    "\n",
    "# Download if the file is missing\n",
    "if not os.path.exists(checkpoint_path):\n",
    "    print(f\"Downloading SAM checkpoint from {checkpoint_url}...\")\n",
    "    urllib.request.urlretrieve(checkpoint_url, checkpoint_path)\n",
    "    print(\"Download complete.\")\n",
    "else:\n",
    "    print(\"Checkpoint already exists at:\", checkpoint_path)"
   ]
  },
  {
   "cell_type": "code",
   "execution_count": 3,
   "id": "da4df807",
   "metadata": {},
   "outputs": [],
   "source": [
    "image_folder = r\"Dataset_resized\"\n",
    "model_type = \"vit_h\"\n",
    "output_root = \"segmentation_outputs\"\n",
    "os.makedirs(output_root, exist_ok=True)"
   ]
  },
  {
   "cell_type": "code",
   "execution_count": 5,
   "id": "7f97fd87",
   "metadata": {},
   "outputs": [],
   "source": [
    "device = \"cuda\" if torch.cuda.is_available() else \"cpu\"\n",
    "checkpoint_path = r\"C:\\Users\\poten\\Downloads\\sam_vit_h_4b8939.pth\"\n",
    "sam = sam_model_registry[model_type](checkpoint=checkpoint_path)\n",
    "\n",
    "sam.to(device)\n",
    "\n",
    "\n",
    "predictor = SamPredictor(sam)"
   ]
  },
  {
   "cell_type": "code",
   "execution_count": 6,
   "id": "604b2e0f",
   "metadata": {},
   "outputs": [],
   "source": [
    "# Track processed images\n",
    "processed_file = os.path.join(output_root, \"processed_images.json\")\n",
    "if os.path.exists(processed_file):\n",
    "    with open(processed_file, \"r\") as f:\n",
    "        processed_images = set(json.load(f))\n",
    "else:\n",
    "    processed_images = set()"
   ]
  },
  {
   "cell_type": "code",
   "execution_count": 7,
   "id": "0e3b9bb9",
   "metadata": {},
   "outputs": [],
   "source": [
    "def binary_mask_to_rle(mask):\n",
    "    rle = mask_utils.encode(np.asfortranarray(mask.astype(np.uint8)))\n",
    "    rle[\"counts\"] = rle[\"counts\"].decode(\"utf-8\")  # bytes to str for JSON\n",
    "    return rle\n",
    "\n",
    "\n",
    "annotation_id = 1\n",
    "image_id = 1"
   ]
  },
  {
   "cell_type": "code",
   "execution_count": null,
   "id": "6e113852",
   "metadata": {},
   "outputs": [
    {
     "name": "stderr",
     "output_type": "stream",
     "text": [
      "  0%|          | 0/607 [00:00<?, ?it/s]"
     ]
    },
    {
     "name": "stdout",
     "output_type": "stream",
     "text": [
      "\n",
      "Processing image: 20250517_160119.jpg\n",
      "🔁 Retrying segmentation for this image...\n",
      "\n",
      "Processing image: 20250517_160119.jpg\n",
      "🔁 Retrying segmentation for this image...\n",
      "\n",
      "Processing image: 20250517_160119.jpg\n",
      "🔁 Retrying segmentation for this image...\n",
      "\n",
      "Processing image: 20250517_160119.jpg\n"
     ]
    },
    {
     "name": "stderr",
     "output_type": "stream",
     "text": [
      " 28%|██▊       | 170/607 [00:27<01:11,  6.09it/s]"
     ]
    },
    {
     "name": "stdout",
     "output_type": "stream",
     "text": [
      "\n",
      "Processing image: 20250517_160156.jpg\n",
      "🔁 Retrying segmentation for this image...\n",
      "\n",
      "Processing image: 20250517_160156.jpg\n",
      "🔁 Retrying segmentation for this image...\n",
      "\n",
      "Processing image: 20250517_160156.jpg\n"
     ]
    },
    {
     "name": "stderr",
     "output_type": "stream",
     "text": [
      " 29%|██▊       | 173/607 [00:43<02:03,  3.51it/s]"
     ]
    },
    {
     "name": "stdout",
     "output_type": "stream",
     "text": [
      "⏭️ Skipping this image...\n",
      "\n",
      "Processing image: 20250518_122538.jpg\n"
     ]
    },
    {
     "name": "stderr",
     "output_type": "stream",
     "text": [
      " 34%|███▎      | 204/607 [00:48<01:43,  3.90it/s]"
     ]
    },
    {
     "name": "stdout",
     "output_type": "stream",
     "text": [
      "\n",
      "Processing image: 20250518_123832.jpg\n",
      "🔁 Retrying segmentation for this image...\n",
      "\n",
      "Processing image: 20250518_123832.jpg\n"
     ]
    },
    {
     "name": "stderr",
     "output_type": "stream",
     "text": [
      " 41%|████      | 249/607 [00:56<01:20,  4.46it/s]"
     ]
    },
    {
     "name": "stdout",
     "output_type": "stream",
     "text": [
      "⏭️ Skipping this image...\n",
      "\n",
      "Processing image: 20250518_123902.jpg\n"
     ]
    },
    {
     "name": "stderr",
     "output_type": "stream",
     "text": [
      " 42%|████▏     | 255/607 [01:04<01:45,  3.35it/s]"
     ]
    },
    {
     "name": "stdout",
     "output_type": "stream",
     "text": [
      "⏭️ Skipping this image...\n",
      "\n",
      "Processing image: 20250518_124334.jpg\n"
     ]
    },
    {
     "name": "stderr",
     "output_type": "stream",
     "text": [
      " 43%|████▎     | 264/607 [01:07<01:44,  3.29it/s]"
     ]
    },
    {
     "name": "stdout",
     "output_type": "stream",
     "text": [
      "⏭️ Skipping this image...\n",
      "\n",
      "Processing image: 20250518_124428.jpg\n"
     ]
    },
    {
     "name": "stderr",
     "output_type": "stream",
     "text": [
      " 44%|████▍     | 268/607 [01:09<01:45,  3.21it/s]"
     ]
    },
    {
     "name": "stdout",
     "output_type": "stream",
     "text": [
      "⏭️ Skipping this image...\n",
      "\n",
      "Processing image: 20250518_124449.jpg\n",
      "🔁 Retrying segmentation for this image...\n",
      "\n",
      "Processing image: 20250518_124449.jpg\n",
      "🔁 Retrying segmentation for this image...\n",
      "\n",
      "Processing image: 20250518_124449.jpg\n",
      "🔁 Retrying segmentation for this image...\n",
      "\n",
      "Processing image: 20250518_124449.jpg\n"
     ]
    },
    {
     "name": "stderr",
     "output_type": "stream",
     "text": [
      " 44%|████▍     | 269/607 [01:38<05:43,  1.02s/it]"
     ]
    },
    {
     "name": "stdout",
     "output_type": "stream",
     "text": [
      "⏭️ Skipping this image...\n",
      "\n",
      "Processing image: Glorious-Vancouver-BC-Canada_-Walking-to-the-boundary-of-Burnaby_-East-49th-Avenue-Walk__mp4-202_jpg.rf.e59308bb418ea88201bacb54421243a1.jpg\n",
      "🔁 Retrying segmentation for this image...\n",
      "\n",
      "Processing image: Glorious-Vancouver-BC-Canada_-Walking-to-the-boundary-of-Burnaby_-East-49th-Avenue-Walk__mp4-202_jpg.rf.e59308bb418ea88201bacb54421243a1.jpg\n"
     ]
    },
    {
     "name": "stderr",
     "output_type": "stream",
     "text": [
      " 62%|██████▏   | 374/607 [01:48<01:08,  3.39it/s]"
     ]
    },
    {
     "name": "stdout",
     "output_type": "stream",
     "text": [
      "⏭️ Skipping this image...\n",
      "\n",
      "Processing image: Glorious-Vancouver-BC-Canada_-Walking-to-the-boundary-of-Burnaby_-East-49th-Avenue-Walk__mp4-40_jpg.rf.8851a865e84a7e80a023f3435d7c2d42.jpg\n",
      "🔁 Retrying segmentation for this image...\n",
      "\n",
      "Processing image: Glorious-Vancouver-BC-Canada_-Walking-to-the-boundary-of-Burnaby_-East-49th-Avenue-Walk__mp4-40_jpg.rf.8851a865e84a7e80a023f3435d7c2d42.jpg\n"
     ]
    },
    {
     "name": "stderr",
     "output_type": "stream",
     "text": [
      " 66%|██████▌   | 398/607 [01:58<01:06,  3.13it/s]"
     ]
    },
    {
     "name": "stdout",
     "output_type": "stream",
     "text": [
      "⏭️ Skipping this image...\n",
      "\n",
      "Processing image: IMG-20250517-WA0013.jpg\n",
      "🔁 Retrying segmentation for this image...\n",
      "\n",
      "Processing image: IMG-20250517-WA0013.jpg\n"
     ]
    },
    {
     "name": "stderr",
     "output_type": "stream",
     "text": [
      " 68%|██████▊   | 411/607 [02:14<01:27,  2.24it/s]"
     ]
    },
    {
     "name": "stdout",
     "output_type": "stream",
     "text": [
      "\n",
      "Processing image: IMG-20250517-WA0015.jpg\n"
     ]
    },
    {
     "name": "stderr",
     "output_type": "stream",
     "text": [
      " 68%|██████▊   | 413/607 [02:18<01:33,  2.08it/s]"
     ]
    },
    {
     "name": "stdout",
     "output_type": "stream",
     "text": [
      "⏭️ Skipping this image...\n",
      "\n",
      "Processing image: IMG-20250519-WA0008.jpg\n",
      "🔁 Retrying segmentation for this image...\n",
      "\n",
      "Processing image: IMG-20250519-WA0008.jpg\n",
      "🔁 Retrying segmentation for this image...\n",
      "\n",
      "Processing image: IMG-20250519-WA0008.jpg\n"
     ]
    },
    {
     "name": "stderr",
     "output_type": "stream",
     "text": [
      " 70%|███████   | 426/607 [02:32<01:52,  1.61it/s]"
     ]
    },
    {
     "name": "stdout",
     "output_type": "stream",
     "text": [
      "⏭️ Skipping this image...\n",
      "\n",
      "Processing image: IMG-20250519-WA0013.jpg\n",
      "🔁 Retrying segmentation for this image...\n",
      "\n",
      "Processing image: IMG-20250519-WA0013.jpg\n",
      "🔁 Retrying segmentation for this image...\n",
      "\n",
      "Processing image: IMG-20250519-WA0013.jpg\n"
     ]
    },
    {
     "name": "stderr",
     "output_type": "stream",
     "text": [
      " 71%|███████   | 431/607 [02:53<02:53,  1.01it/s]"
     ]
    },
    {
     "name": "stdout",
     "output_type": "stream",
     "text": [
      "\n",
      "Processing image: IMG-20250519-WA0014.jpg\n",
      "🔁 Retrying segmentation for this image...\n",
      "\n",
      "Processing image: IMG-20250519-WA0014.jpg\n"
     ]
    },
    {
     "name": "stderr",
     "output_type": "stream",
     "text": [
      " 71%|███████   | 432/607 [03:00<03:21,  1.15s/it]"
     ]
    },
    {
     "name": "stdout",
     "output_type": "stream",
     "text": [
      "⏭️ Skipping this image...\n",
      "\n",
      "Processing image: IMG-20250519-WA0018.jpg\n",
      "🔁 Retrying segmentation for this image...\n",
      "\n",
      "Processing image: IMG-20250519-WA0018.jpg\n"
     ]
    },
    {
     "name": "stderr",
     "output_type": "stream",
     "text": [
      " 72%|███████▏  | 436/607 [03:08<03:36,  1.27s/it]"
     ]
    },
    {
     "name": "stdout",
     "output_type": "stream",
     "text": [
      "⏭️ Skipping this image...\n",
      "\n",
      "Processing image: IMG-20250519-WA0025.jpg\n",
      "🔁 Retrying segmentation for this image...\n",
      "\n",
      "Processing image: IMG-20250519-WA0025.jpg\n",
      "🔁 Retrying segmentation for this image...\n",
      "\n",
      "Processing image: IMG-20250519-WA0025.jpg\n",
      "🔁 Retrying segmentation for this image...\n",
      "\n",
      "Processing image: IMG-20250519-WA0025.jpg\n",
      "🔁 Retrying segmentation for this image...\n",
      "\n",
      "Processing image: IMG-20250519-WA0025.jpg\n",
      "🔁 Retrying segmentation for this image...\n",
      "\n",
      "Processing image: IMG-20250519-WA0025.jpg\n"
     ]
    },
    {
     "name": "stderr",
     "output_type": "stream",
     "text": [
      " 73%|███████▎  | 443/607 [03:56<07:34,  2.77s/it]"
     ]
    },
    {
     "name": "stdout",
     "output_type": "stream",
     "text": [
      "\n",
      "Processing image: IMG-20250519-WA0027.jpg\n",
      "🔁 Retrying segmentation for this image...\n",
      "\n",
      "Processing image: IMG-20250519-WA0027.jpg\n"
     ]
    },
    {
     "name": "stderr",
     "output_type": "stream",
     "text": [
      " 73%|███████▎  | 445/607 [04:06<07:56,  2.94s/it]"
     ]
    },
    {
     "name": "stdout",
     "output_type": "stream",
     "text": [
      "⏭️ Skipping this image...\n",
      "\n",
      "Processing image: IMG-20250519-WA0044.jpg\n"
     ]
    },
    {
     "name": "stderr",
     "output_type": "stream",
     "text": [
      " 76%|███████▌  | 462/607 [04:08<03:28,  1.44s/it]"
     ]
    },
    {
     "name": "stdout",
     "output_type": "stream",
     "text": [
      "⏭️ Skipping this image...\n",
      "\n",
      "Processing image: IMG-20250519-WA0045.jpg\n"
     ]
    },
    {
     "name": "stderr",
     "output_type": "stream",
     "text": [
      " 76%|███████▋  | 463/607 [04:11<03:35,  1.50s/it]"
     ]
    },
    {
     "name": "stdout",
     "output_type": "stream",
     "text": [
      "⏭️ Skipping this image...\n",
      "\n",
      "Processing image: IMG-20250519-WA0062.jpg\n"
     ]
    },
    {
     "name": "stderr",
     "output_type": "stream",
     "text": [
      " 79%|███████▉  | 480/607 [04:13<01:40,  1.27it/s]"
     ]
    },
    {
     "name": "stdout",
     "output_type": "stream",
     "text": [
      "⏭️ Skipping this image...\n",
      "\n",
      "Processing image: IMG-20250519-WA0082.jpg\n"
     ]
    },
    {
     "name": "stderr",
     "output_type": "stream",
     "text": [
      " 82%|████████▏ | 500/607 [04:15<00:49,  2.15it/s]"
     ]
    },
    {
     "name": "stdout",
     "output_type": "stream",
     "text": [
      "⏭️ Skipping this image...\n",
      "\n",
      "Processing image: IMG-20250519-WA0096.jpg\n"
     ]
    },
    {
     "name": "stderr",
     "output_type": "stream",
     "text": [
      " 85%|████████▍ | 514/607 [04:17<00:34,  2.70it/s]"
     ]
    },
    {
     "name": "stdout",
     "output_type": "stream",
     "text": [
      "⏭️ Skipping this image...\n",
      "\n",
      "Processing image: IMG-20250519-WA0106.jpg\n"
     ]
    },
    {
     "name": "stderr",
     "output_type": "stream",
     "text": [
      " 86%|████████▋ | 524/607 [04:24<00:36,  2.29it/s]"
     ]
    },
    {
     "name": "stdout",
     "output_type": "stream",
     "text": [
      "\n",
      "Processing image: IMG-20250519-WA0108.jpg\n"
     ]
    },
    {
     "name": "stderr",
     "output_type": "stream",
     "text": [
      " 87%|████████▋ | 526/607 [04:31<00:53,  1.51it/s]"
     ]
    },
    {
     "name": "stdout",
     "output_type": "stream",
     "text": [
      "\n",
      "Processing image: IMG-20250519-WA0110.jpg\n",
      "🔁 Retrying segmentation for this image...\n",
      "\n",
      "Processing image: IMG-20250519-WA0110.jpg\n",
      "🔁 Retrying segmentation for this image...\n",
      "\n",
      "Processing image: IMG-20250519-WA0110.jpg\n",
      "🔁 Retrying segmentation for this image...\n",
      "\n",
      "Processing image: IMG-20250519-WA0110.jpg\n",
      "🔁 Retrying segmentation for this image...\n",
      "\n",
      "Processing image: IMG-20250519-WA0110.jpg\n",
      "🔁 Retrying segmentation for this image...\n",
      "\n",
      "Processing image: IMG-20250519-WA0110.jpg\n",
      "🔁 Retrying segmentation for this image...\n",
      "\n",
      "Processing image: IMG-20250519-WA0110.jpg\n",
      "🔁 Retrying segmentation for this image...\n",
      "\n",
      "Processing image: IMG-20250519-WA0110.jpg\n",
      "🔁 Retrying segmentation for this image...\n",
      "\n",
      "Processing image: IMG-20250519-WA0110.jpg\n",
      "🔁 Retrying segmentation for this image...\n",
      "\n",
      "Processing image: IMG-20250519-WA0110.jpg\n",
      "🔁 Retrying segmentation for this image...\n",
      "\n",
      "Processing image: IMG-20250519-WA0110.jpg\n",
      "🔁 Retrying segmentation for this image...\n",
      "\n",
      "Processing image: IMG-20250519-WA0110.jpg\n"
     ]
    },
    {
     "name": "stderr",
     "output_type": "stream",
     "text": [
      " 87%|████████▋ | 528/607 [05:32<04:10,  3.18s/it]"
     ]
    },
    {
     "name": "stdout",
     "output_type": "stream",
     "text": [
      "⏭️ Skipping this image...\n",
      "\n",
      "Processing image: IMG-20250519-WA0114.jpg\n"
     ]
    },
    {
     "name": "stderr",
     "output_type": "stream",
     "text": [
      " 88%|████████▊ | 532/607 [05:34<03:20,  2.68s/it]"
     ]
    },
    {
     "name": "stdout",
     "output_type": "stream",
     "text": [
      "⏭️ Skipping this image...\n",
      "\n",
      "Processing image: IMG-20250519-WA0115.jpg\n",
      "🔁 Retrying segmentation for this image...\n",
      "\n",
      "Processing image: IMG-20250519-WA0115.jpg\n"
     ]
    },
    {
     "name": "stderr",
     "output_type": "stream",
     "text": [
      " 88%|████████▊ | 533/607 [05:41<03:39,  2.97s/it]"
     ]
    },
    {
     "name": "stdout",
     "output_type": "stream",
     "text": [
      "⏭️ Skipping this image...\n",
      "\n",
      "Processing image: IMG-20250519-WA0116.jpg\n",
      "🔁 Retrying segmentation for this image...\n",
      "\n",
      "Processing image: IMG-20250519-WA0116.jpg\n"
     ]
    },
    {
     "name": "stderr",
     "output_type": "stream",
     "text": [
      " 88%|████████▊ | 534/607 [05:51<04:17,  3.52s/it]"
     ]
    },
    {
     "name": "stdout",
     "output_type": "stream",
     "text": [
      "⏭️ Skipping this image...\n",
      "\n",
      "Processing image: IMG_20230912_091903_jpg.rf.3c79723d06fcaa779b57f7cd69d0c6de.jpg\n"
     ]
    },
    {
     "name": "stderr",
     "output_type": "stream",
     "text": [
      " 92%|█████████▏| 556/607 [05:53<00:52,  1.02s/it]"
     ]
    },
    {
     "name": "stdout",
     "output_type": "stream",
     "text": [
      "⏭️ Skipping this image...\n",
      "\n",
      "Processing image: tee1-Kopya_jpg.rf.39ecb95c73bc356f8d280ff1c7427abd.jpg\n"
     ]
    },
    {
     "name": "stderr",
     "output_type": "stream",
     "text": [
      " 93%|█████████▎| 563/607 [05:54<00:36,  1.21it/s]"
     ]
    },
    {
     "name": "stdout",
     "output_type": "stream",
     "text": [
      "⏭️ Skipping this image...\n",
      "\n",
      "Processing image: WhatsApp Image 2025-05-11 at 17.54.59_922f7364.jpg\n"
     ]
    },
    {
     "name": "stderr",
     "output_type": "stream",
     "text": [
      " 96%|█████████▌| 582/607 [05:56<00:11,  2.14it/s]"
     ]
    },
    {
     "name": "stdout",
     "output_type": "stream",
     "text": [
      "⏭️ Skipping this image...\n",
      "\n",
      "Processing image: WhatsApp Image 2025-05-11 at 17.54.59_e2fd82f3.jpg\n"
     ]
    },
    {
     "name": "stderr",
     "output_type": "stream",
     "text": [
      "100%|██████████| 607/607 [05:58<00:00,  1.69it/s]"
     ]
    },
    {
     "name": "stdout",
     "output_type": "stream",
     "text": [
      "⏭️ Skipping this image...\n",
      "\n",
      "✅ All segmentations complete. JSON and segmented images saved.\n"
     ]
    },
    {
     "name": "stderr",
     "output_type": "stream",
     "text": [
      "\n"
     ]
    },
    {
     "ename": "",
     "evalue": "",
     "output_type": "error",
     "traceback": [
      "\u001b[1;31mThe Kernel crashed while executing code in the current cell or a previous cell. \n",
      "\u001b[1;31mPlease review the code in the cell(s) to identify a possible cause of the failure. \n",
      "\u001b[1;31mClick <a href='https://aka.ms/vscodeJupyterKernelCrash'>here</a> for more info. \n",
      "\u001b[1;31mView Jupyter <a href='command:jupyter.viewOutput'>log</a> for further details."
     ]
    }
   ],
   "source": [
    "# i = 0\n",
    "for fname in tqdm(os.listdir(image_folder)):\n",
    "    if not fname.lower().endswith((\".png\", \".jpg\", \".jpeg\")):\n",
    "        continue\n",
    "\n",
    "    if fname in processed_images:\n",
    "        continue\n",
    "\n",
    "    # i += 1\n",
    "    # if i < 100:\n",
    "    #     continue\n",
    "\n",
    "    while True:\n",
    "        image_path = os.path.join(image_folder, fname)\n",
    "        image_bgr = cv2.imread(image_path)\n",
    "        image_rgb = cv2.cvtColor(image_bgr, cv2.COLOR_BGR2RGB)\n",
    "        h, w = image_rgb.shape[:2]\n",
    "\n",
    "        predictor.set_image(image_rgb)\n",
    "\n",
    "        click_points = []\n",
    "        click_labels = []\n",
    "        removal_points = []\n",
    "        removal_labels = []\n",
    "\n",
    "        def click_event(event, x, y, flags, param):\n",
    "            if event == cv2.EVENT_LBUTTONDOWN:\n",
    "                click_points.append([x, y])\n",
    "                click_labels.append(1)\n",
    "                cv2.circle(image_bgr, (x, y), 5, (0, 255, 0), -1)\n",
    "                cv2.imshow(\"Click points, press 's' to segment or 'k' to skip\", image_bgr)\n",
    "            if event == cv2.EVENT_RBUTTONDOWN:\n",
    "                removal_points.append([x, y])\n",
    "                removal_labels.append(0)\n",
    "                cv2.circle(image_bgr, (x, y), 5, (0, 0, 255), -1)\n",
    "                cv2.imshow(\n",
    "                    \"Click points, press 's' to segment or 'k' to skip\", image_bgr\n",
    "                )\n",
    "\n",
    "        print(f\"\\nProcessing image: {fname}\")\n",
    "        cv2.imshow(\"Click points, press 's' to segment or 'k' to skip\", image_bgr)\n",
    "        cv2.setMouseCallback(\"Click points, press 's' to segment or 'k' to skip\", click_event)\n",
    "\n",
    "        key = None\n",
    "        # Wait for 's' to segment or 'k' to skip or 'ESC' to exit\n",
    "        while True:\n",
    "            key = cv2.waitKey(1)\n",
    "            if key == ord(\"s\") and click_points:\n",
    "                break\n",
    "            if key == ord(\"k\"):\n",
    "                print(\"⏭️ Skipping this image...\")\n",
    "                break\n",
    "            elif key == 27:\n",
    "                cv2.destroyAllWindows()\n",
    "                exit()\n",
    "\n",
    "        if key == ord(\"k\"):\n",
    "            break  # Move to next image\n",
    "\n",
    "        input_points = np.array(click_points + removal_points)\n",
    "        input_labels = np.array(click_labels + removal_labels)\n",
    "        masks, scores, logits = predictor.predict(\n",
    "            point_coords=input_points,\n",
    "            point_labels=input_labels,\n",
    "            multimask_output=False,\n",
    "        )\n",
    "        mask = masks[0]\n",
    "\n",
    "        result_overlay = image_bgr.copy()\n",
    "        result_overlay[mask] = [0, 255, 0]\n",
    "\n",
    "        # Show result and ask user to retry or accept\n",
    "        cv2.imshow(\"Result - press 'r' to retry or any key to accept\", result_overlay)\n",
    "        key = cv2.waitKey(0)\n",
    "        cv2.destroyAllWindows()\n",
    "\n",
    "        if key == ord(\"r\"):\n",
    "            print(\"🔁 Retrying segmentation for this image...\")\n",
    "            continue  # Re-do the same image\n",
    "\n",
    "        # Save segmentation result\n",
    "        base_name = os.path.splitext(fname)[0]\n",
    "        overlay_path = os.path.join(output_root, f\"{base_name}_segmented.png\")\n",
    "        cv2.imwrite(overlay_path, result_overlay)\n",
    "\n",
    "        coco_data = {\n",
    "            \"info\": {\n",
    "                \"description\": \"Manual SAM Segmentation\",\n",
    "                \"date_created\": datetime.now().isoformat(),\n",
    "            },\n",
    "            \"images\": [{\"id\": image_id, \"file_name\": fname, \"width\": w, \"height\": h}],\n",
    "            \"annotations\": [\n",
    "                {\n",
    "                    \"id\": annotation_id,\n",
    "                    \"image_id\": image_id,\n",
    "                    \"category_id\": 1,\n",
    "                    \"segmentation\": binary_mask_to_rle(mask),\n",
    "                    \"area\": int(mask.sum()),\n",
    "                    \"bbox\": list(cv2.boundingRect(mask.astype(np.uint8))),\n",
    "                    \"iscrowd\": 0,\n",
    "                }\n",
    "            ],\n",
    "            \"categories\": [{\"id\": 1, \"name\": \"object\"}],\n",
    "        }\n",
    "\n",
    "        json_path = os.path.join(output_root, f\"{base_name}.json\")\n",
    "        with open(json_path, \"w\") as f:\n",
    "            json.dump(coco_data, f)\n",
    "\n",
    "        # ✅ Save processed image info\n",
    "        processed_images.add(fname)\n",
    "        with open(processed_file, \"w\") as f:\n",
    "            json.dump(list(processed_images), f)\n",
    "\n",
    "        annotation_id += 1\n",
    "        image_id += 1\n",
    "        break  # Move to next image\n",
    "\n",
    "\n",
    "print(\"\\n✅ All segmentations complete. JSON and segmented images saved.\")"
   ]
  }
 ],
 "metadata": {
  "kernelspec": {
   "display_name": "Python 3",
   "language": "python",
   "name": "python3"
  },
  "language_info": {
   "codemirror_mode": {
    "name": "ipython",
    "version": 3
   },
   "file_extension": ".py",
   "mimetype": "text/x-python",
   "name": "python",
   "nbconvert_exporter": "python",
   "pygments_lexer": "ipython3",
   "version": "3.12.3"
  }
 },
 "nbformat": 4,
 "nbformat_minor": 5
}
