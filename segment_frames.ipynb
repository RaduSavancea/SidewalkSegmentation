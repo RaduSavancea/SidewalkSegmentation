{
 "cells": [
  {
   "cell_type": "code",
   "id": "80c833bf",
   "metadata": {
    "ExecuteTime": {
     "end_time": "2025-05-19T20:16:46.692707Z",
     "start_time": "2025-05-19T20:16:38.751931Z"
    }
   },
   "source": [
    "import os\n",
    "import cv2\n",
    "import json\n",
    "import torch\n",
    "import numpy as np\n",
    "from tqdm import tqdm\n",
    "from datetime import datetime\n",
    "from segment_anything import sam_model_registry, SamPredictor\n",
    "from pycocotools import mask as mask_utils\n",
    "import urllib.request"
   ],
   "outputs": [],
   "execution_count": 1
  },
  {
   "cell_type": "code",
   "id": "8725a608",
   "metadata": {
    "ExecuteTime": {
     "end_time": "2025-05-19T20:16:47.138596Z",
     "start_time": "2025-05-19T20:16:47.133975Z"
    }
   },
   "source": [
    "print(torch.cuda.is_available())"
   ],
   "outputs": [
    {
     "name": "stdout",
     "output_type": "stream",
     "text": [
      "False\n"
     ]
    }
   ],
   "execution_count": 2
  },
  {
   "metadata": {
    "ExecuteTime": {
     "end_time": "2025-05-19T20:16:47.224941Z",
     "start_time": "2025-05-19T20:16:47.217353Z"
    }
   },
   "cell_type": "code",
   "source": [
    "# Define checkpoint path and download url\n",
    "checkpoint_path = os.path.join(\"checkpoints\", \"sam_vit_h_4b8939.pth\")\n",
    "checkpoint_url = \"https://dl.fbaipublicfiles.com/segment_anything/sam_vit_h_4b8939.pth\"\n",
    "\n",
    "# Make directory if it doesn't exist\n",
    "os.makedirs(os.path.dirname(checkpoint_path), exist_ok=True)\n",
    "\n",
    "# Download if the file is missing\n",
    "if not os.path.exists(checkpoint_path):\n",
    "    print(f\"Downloading SAM checkpoint from {checkpoint_url}...\")\n",
    "    urllib.request.urlretrieve(checkpoint_url, checkpoint_path)\n",
    "    print(\"Download complete.\")\n",
    "else:\n",
    "    print(\"Checkpoint already exists at:\", checkpoint_path)"
   ],
   "id": "15cc3e517523e268",
   "outputs": [
    {
     "name": "stdout",
     "output_type": "stream",
     "text": [
      "Checkpoint already exists at: checkpoints\\sam_vit_h_4b8939.pth\n"
     ]
    }
   ],
   "execution_count": 4
  },
  {
   "metadata": {},
   "cell_type": "code",
   "outputs": [],
   "execution_count": 3,
   "source": [
    "image_folder = r\"Dataset_resized\"\n",
    "model_type = \"vit_h\"\n",
    "output_root = \"segmentation_outputs\"\n",
    "os.makedirs(output_root, exist_ok=True)"
   ],
   "id": "da4df807"
  },
  {
   "cell_type": "code",
   "id": "7f97fd87",
   "metadata": {
    "ExecuteTime": {
     "end_time": "2025-05-19T20:16:55.165937Z",
     "start_time": "2025-05-19T20:16:47.266055Z"
    }
   },
   "source": [
    "device = \"cuda\" if torch.cuda.is_available() else \"cpu\"\n",
    "sam = sam_model_registry[model_type](checkpoint=checkpoint_path)\n",
    "sam.to(device)\n",
    "predictor = SamPredictor(sam)"
   ],
   "outputs": [],
   "execution_count": 5
  },
  {
   "cell_type": "code",
   "id": "604b2e0f",
   "metadata": {
    "ExecuteTime": {
     "end_time": "2025-05-19T20:16:55.200970Z",
     "start_time": "2025-05-19T20:16:55.192814Z"
    }
   },
   "source": [
    "# Track processed images\n",
    "processed_file = os.path.join(output_root, \"processed_images.json\")\n",
    "if os.path.exists(processed_file):\n",
    "    with open(processed_file, \"r\") as f:\n",
    "        processed_images = set(json.load(f))\n",
    "else:\n",
    "    processed_images = set()"
   ],
   "outputs": [],
   "execution_count": 6
  },
  {
   "cell_type": "code",
   "id": "0e3b9bb9",
   "metadata": {
    "ExecuteTime": {
     "end_time": "2025-05-19T20:16:55.233530Z",
     "start_time": "2025-05-19T20:16:55.225742Z"
    }
   },
   "source": [
    "def binary_mask_to_rle(mask):\n",
    "    rle = mask_utils.encode(np.asfortranarray(mask.astype(np.uint8)))\n",
    "    rle[\"counts\"] = rle[\"counts\"].decode(\"utf-8\")  # bytes to str for JSON\n",
    "    return rle\n",
    "\n",
    "\n",
    "annotation_id = 1\n",
    "image_id = 1"
   ],
   "outputs": [],
   "execution_count": 7
  },
  {
   "cell_type": "code",
   "id": "6e113852",
   "metadata": {
    "jupyter": {
     "is_executing": true
    },
    "ExecuteTime": {
     "start_time": "2025-05-19T20:16:55.263341Z"
    }
   },
   "source": [
    "for fname in tqdm(os.listdir(image_folder)):\n",
    "    if not fname.lower().endswith((\".png\", \".jpg\", \".jpeg\")):\n",
    "        continue\n",
    "    if fname in processed_images:\n",
    "        continue\n",
    "\n",
    "    while True:\n",
    "        image_path = os.path.join(image_folder, fname)\n",
    "        image_bgr = cv2.imread(image_path)\n",
    "        image_rgb = cv2.cvtColor(image_bgr, cv2.COLOR_BGR2RGB)\n",
    "        h, w = image_rgb.shape[:2]\n",
    "\n",
    "        predictor.set_image(image_rgb)\n",
    "\n",
    "        click_points = []\n",
    "        click_labels = []\n",
    "\n",
    "        def click_event(event, x, y, flags, param):\n",
    "            if event == cv2.EVENT_LBUTTONDOWN:\n",
    "                click_points.append([x, y])\n",
    "                click_labels.append(1)\n",
    "                cv2.circle(image_bgr, (x, y), 5, (0, 255, 0), -1)\n",
    "                cv2.imshow(\"Click points, press 's' to segment or 'k' to skip\", image_bgr)\n",
    "\n",
    "        print(f\"\\nProcessing image: {fname}\")\n",
    "        cv2.imshow(\"Click points, press 's' to segment or 'k' to skip\", image_bgr)\n",
    "        cv2.setMouseCallback(\"Click points, press 's' to segment or 'k' to skip\", click_event)\n",
    "\n",
    "        key = None\n",
    "        # Wait for 's' to segment or 'k' to skip or 'ESC' to exit\n",
    "        while True:\n",
    "            key = cv2.waitKey(1)\n",
    "            if key == ord(\"s\") and click_points:\n",
    "                break\n",
    "            if key == ord(\"k\"):\n",
    "                print(\"⏭️ Skipping this image...\")\n",
    "                break\n",
    "            elif key == 27:\n",
    "                cv2.destroyAllWindows()\n",
    "                exit()\n",
    "\n",
    "        if key == ord(\"k\"):\n",
    "            break  # Move to next image\n",
    "\n",
    "        input_points = np.array(click_points)\n",
    "        input_labels = np.array(click_labels)\n",
    "        masks, scores, logits = predictor.predict(\n",
    "            point_coords=input_points,\n",
    "            point_labels=input_labels,\n",
    "            multimask_output=False,\n",
    "        )\n",
    "        mask = masks[0]\n",
    "\n",
    "        result_overlay = image_bgr.copy()\n",
    "        result_overlay[mask] = [0, 255, 0]\n",
    "\n",
    "        # Show result and ask user to retry or accept\n",
    "        cv2.imshow(\"Result - press 'r' to retry or any key to accept\", result_overlay)\n",
    "        key = cv2.waitKey(0)\n",
    "        cv2.destroyAllWindows()\n",
    "\n",
    "        if key == ord(\"r\"):\n",
    "            print(\"🔁 Retrying segmentation for this image...\")\n",
    "            continue  # Re-do the same image\n",
    "\n",
    "        # Save segmentation result\n",
    "        base_name = os.path.splitext(fname)[0]\n",
    "        overlay_path = os.path.join(output_root, f\"{base_name}_segmented.png\")\n",
    "        cv2.imwrite(overlay_path, result_overlay)\n",
    "\n",
    "        coco_data = {\n",
    "            \"info\": {\n",
    "                \"description\": \"Manual SAM Segmentation\",\n",
    "                \"date_created\": datetime.now().isoformat(),\n",
    "            },\n",
    "            \"images\": [{\"id\": image_id, \"file_name\": fname, \"width\": w, \"height\": h}],\n",
    "            \"annotations\": [\n",
    "                {\n",
    "                    \"id\": annotation_id,\n",
    "                    \"image_id\": image_id,\n",
    "                    \"category_id\": 1,\n",
    "                    \"segmentation\": binary_mask_to_rle(mask),\n",
    "                    \"area\": int(mask.sum()),\n",
    "                    \"bbox\": list(cv2.boundingRect(mask.astype(np.uint8))),\n",
    "                    \"iscrowd\": 0,\n",
    "                }\n",
    "            ],\n",
    "            \"categories\": [{\"id\": 1, \"name\": \"object\"}],\n",
    "        }\n",
    "\n",
    "        json_path = os.path.join(output_root, f\"{base_name}.json\")\n",
    "        with open(json_path, \"w\") as f:\n",
    "            json.dump(coco_data, f)\n",
    "\n",
    "        # ✅ Save processed image info\n",
    "        processed_images.add(fname)\n",
    "        with open(processed_file, \"w\") as f:\n",
    "            json.dump(list(processed_images), f)\n",
    "\n",
    "        annotation_id += 1\n",
    "        image_id += 1\n",
    "        break  # Move to next image\n",
    "\n",
    "print(\"\\n✅ All segmentations complete. JSON and segmented images saved.\")"
   ],
   "outputs": [
    {
     "name": "stderr",
     "output_type": "stream",
     "text": [
      "  0%|          | 0/397 [00:00<?, ?it/s]"
     ]
    },
    {
     "name": "stdout",
     "output_type": "stream",
     "text": [
      "\n",
      "Processing image: 103_jpg.rf.c1e40cbd17568d3f72b310af02a41c66.jpg\n"
     ]
    }
   ],
   "execution_count": null
  },
  {
   "metadata": {},
   "cell_type": "code",
   "outputs": [],
   "execution_count": null,
   "source": "",
   "id": "e5f68db3e4bbc350"
  }
 ],
 "metadata": {
  "kernelspec": {
   "display_name": "Python 3",
   "language": "python",
   "name": "python3"
  },
  "language_info": {
   "codemirror_mode": {
    "name": "ipython",
    "version": 3
   },
   "file_extension": ".py",
   "mimetype": "text/x-python",
   "name": "python",
   "nbconvert_exporter": "python",
   "pygments_lexer": "ipython3",
   "version": "3.12.3"
  }
 },
 "nbformat": 4,
 "nbformat_minor": 5
}
