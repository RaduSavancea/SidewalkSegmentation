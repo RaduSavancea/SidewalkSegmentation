{
 "cells": [
  {
   "cell_type": "code",
   "execution_count": 1,
   "id": "80c833bf",
   "metadata": {},
   "outputs": [],
   "source": [
    "import os\n",
    "import cv2\n",
    "import json\n",
    "import torch\n",
    "import numpy as np\n",
    "from tqdm import tqdm\n",
    "from datetime import datetime\n",
    "from segment_anything import sam_model_registry, SamPredictor\n",
    "from pycocotools import mask as mask_utils\n",
    "import urllib.request"
   ]
  },
  {
   "cell_type": "code",
   "execution_count": 2,
   "id": "8725a608",
   "metadata": {},
   "outputs": [
    {
     "name": "stdout",
     "output_type": "stream",
     "text": [
      "True\n"
     ]
    }
   ],
   "source": [
    "print(torch.cuda.is_available())"
   ]
  },
  {
   "metadata": {},
   "cell_type": "code",
   "outputs": [],
   "execution_count": null,
   "source": [
    "# Define checkpoint path and download url\n",
    "checkpoint_path = os.path.join(\"checkpoints\", \"sam_vit_h_4b8939.pth\")\n",
    "checkpoint_url = \"https://dl.fbaipublicfiles.com/segment_anything/sam_vit_h_4b8939.pth\"\n",
    "\n",
    "# Make directory if it doesn't exist\n",
    "os.makedirs(os.path.dirname(checkpoint_path), exist_ok=True)\n",
    "\n",
    "# Download if the file is missing\n",
    "if not os.path.exists(checkpoint_path):\n",
    "    print(f\"Downloading SAM checkpoint from {checkpoint_url}...\")\n",
    "    urllib.request.urlretrieve(checkpoint_url, checkpoint_path)\n",
    "    print(\"Download complete.\")\n",
    "else:\n",
    "    print(\"Checkpoint already exists at:\", checkpoint_path)"
   ],
   "id": "aae2685930a098b6"
  },
  {
   "metadata": {},
   "cell_type": "code",
   "outputs": [],
   "execution_count": 3,
   "source": [
    "image_folder = r\"Dataset_resized\"\n",
    "model_type = \"vit_h\"\n",
    "output_root = \"segmentation_outputs\"\n",
    "os.makedirs(output_root, exist_ok=True)"
   ],
   "id": "da4df807"
  },
  {
   "cell_type": "code",
   "execution_count": 4,
   "id": "7f97fd87",
   "metadata": {},
   "outputs": [],
   "source": [
    "device = \"cuda\" if torch.cuda.is_available() else \"cpu\"\n",
    "sam = sam_model_registry[model_type](checkpoint=checkpoint_path)\n",
    "sam.to(device)\n",
    "predictor = SamPredictor(sam)"
   ]
  },
  {
   "cell_type": "code",
   "execution_count": 5,
   "id": "604b2e0f",
   "metadata": {},
   "outputs": [],
   "source": [
    "# Track processed images\n",
    "processed_file = os.path.join(output_root, \"processed_images.json\")\n",
    "if os.path.exists(processed_file):\n",
    "    with open(processed_file, \"r\") as f:\n",
    "        processed_images = set(json.load(f))\n",
    "else:\n",
    "    processed_images = set()"
   ]
  },
  {
   "cell_type": "code",
   "execution_count": 6,
   "id": "0e3b9bb9",
   "metadata": {},
   "outputs": [],
   "source": [
    "def binary_mask_to_rle(mask):\n",
    "    rle = mask_utils.encode(np.asfortranarray(mask.astype(np.uint8)))\n",
    "    rle[\"counts\"] = rle[\"counts\"].decode(\"utf-8\")  # bytes to str for JSON\n",
    "    return rle\n",
    "\n",
    "\n",
    "annotation_id = 1\n",
    "image_id = 1"
   ]
  },
  {
   "cell_type": "code",
   "execution_count": 7,
   "id": "6e113852",
   "metadata": {},
   "outputs": [
    {
     "name": "stderr",
     "output_type": "stream",
     "text": [
      "  0%|          | 0/607 [00:00<?, ?it/s]"
     ]
    },
    {
     "name": "stdout",
     "output_type": "stream",
     "text": [
      "\n",
      "Processing image: 103_jpg.rf.c1e40cbd17568d3f72b310af02a41c66.jpg\n"
     ]
    },
    {
     "name": "stderr",
     "output_type": "stream",
     "text": [
      "  1%|          | 5/607 [00:23<47:01,  4.69s/it]"
     ]
    },
    {
     "name": "stdout",
     "output_type": "stream",
     "text": [
      "\n",
      "Processing image: 135_jpg.rf.bf9542f31ad0a4d2fcdbef9390d055f5.jpg\n"
     ]
    },
    {
     "name": "stderr",
     "output_type": "stream",
     "text": [
      "  7%|▋         | 41/607 [00:25<04:29,  2.10it/s]"
     ]
    },
    {
     "name": "stdout",
     "output_type": "stream",
     "text": [
      "⏭️ Skipping this image...\n",
      "\n",
      "Processing image: 137_jpg.rf.b377cd40dea15934f2d2ca0f4ddd937e.jpg\n"
     ]
    },
    {
     "name": "stderr",
     "output_type": "stream",
     "text": [
      "  7%|▋         | 43/607 [00:27<04:40,  2.01it/s]"
     ]
    },
    {
     "name": "stdout",
     "output_type": "stream",
     "text": [
      "⏭️ Skipping this image...\n",
      "\n",
      "Processing image: 142_jpg.rf.c04b5fd1f1fdbd25a96195a8287157b0.jpg\n",
      "🔁 Retrying segmentation for this image...\n",
      "\n",
      "Processing image: 142_jpg.rf.c04b5fd1f1fdbd25a96195a8287157b0.jpg\n",
      "🔁 Retrying segmentation for this image...\n",
      "\n",
      "Processing image: 142_jpg.rf.c04b5fd1f1fdbd25a96195a8287157b0.jpg\n",
      "🔁 Retrying segmentation for this image...\n",
      "\n",
      "Processing image: 142_jpg.rf.c04b5fd1f1fdbd25a96195a8287157b0.jpg\n"
     ]
    },
    {
     "name": "stderr",
     "output_type": "stream",
     "text": [
      "  8%|▊         | 49/607 [04:09<1:20:52,  8.70s/it]"
     ]
    },
    {
     "name": "stdout",
     "output_type": "stream",
     "text": [
      "\n",
      "Processing image: 20250515_150052.jpg\n"
     ]
    },
    {
     "name": "stderr",
     "output_type": "stream",
     "text": [
      " 14%|█▍        | 85/607 [04:13<25:57,  2.98s/it]  \n"
     ]
    },
    {
     "ename": "KeyboardInterrupt",
     "evalue": "",
     "output_type": "error",
     "traceback": [
      "\u001B[1;31m---------------------------------------------------------------------------\u001B[0m",
      "\u001B[1;31mKeyboardInterrupt\u001B[0m                         Traceback (most recent call last)",
      "Cell \u001B[1;32mIn[7], line 47\u001B[0m\n\u001B[0;32m     45\u001B[0m \u001B[38;5;66;03m# Wait for 's' to segment or 'k' to skip or 'ESC' to exit\u001B[39;00m\n\u001B[0;32m     46\u001B[0m \u001B[38;5;28;01mwhile\u001B[39;00m \u001B[38;5;28;01mTrue\u001B[39;00m:\n\u001B[1;32m---> 47\u001B[0m     key \u001B[38;5;241m=\u001B[39m \u001B[43mcv2\u001B[49m\u001B[38;5;241;43m.\u001B[39;49m\u001B[43mwaitKey\u001B[49m\u001B[43m(\u001B[49m\u001B[38;5;241;43m1\u001B[39;49m\u001B[43m)\u001B[49m\n\u001B[0;32m     48\u001B[0m     \u001B[38;5;28;01mif\u001B[39;00m key \u001B[38;5;241m==\u001B[39m \u001B[38;5;28mord\u001B[39m(\u001B[38;5;124m\"\u001B[39m\u001B[38;5;124ms\u001B[39m\u001B[38;5;124m\"\u001B[39m) \u001B[38;5;129;01mand\u001B[39;00m click_points:\n\u001B[0;32m     49\u001B[0m         \u001B[38;5;28;01mbreak\u001B[39;00m\n",
      "\u001B[1;31mKeyboardInterrupt\u001B[0m: "
     ]
    }
   ],
   "source": [
    "# i = 0\n",
    "for fname in tqdm(os.listdir(image_folder)):\n",
    "    if not fname.lower().endswith((\".png\", \".jpg\", \".jpeg\")):\n",
    "        continue\n",
    "\n",
    "    if fname in processed_images:\n",
    "        continue\n",
    "\n",
    "    # i += 1\n",
    "    # if i < 100:\n",
    "    #     continue\n",
    "\n",
    "    while True:\n",
    "        image_path = os.path.join(image_folder, fname)\n",
    "        image_bgr = cv2.imread(image_path)\n",
    "        image_rgb = cv2.cvtColor(image_bgr, cv2.COLOR_BGR2RGB)\n",
    "        h, w = image_rgb.shape[:2]\n",
    "\n",
    "        predictor.set_image(image_rgb)\n",
    "\n",
    "        click_points = []\n",
    "        click_labels = []\n",
    "        removal_points = []\n",
    "        removal_labels = []\n",
    "\n",
    "        def click_event(event, x, y, flags, param):\n",
    "            if event == cv2.EVENT_LBUTTONDOWN:\n",
    "                click_points.append([x, y])\n",
    "                click_labels.append(1)\n",
    "                cv2.circle(image_bgr, (x, y), 5, (0, 255, 0), -1)\n",
    "                cv2.imshow(\"Click points, press 's' to segment or 'k' to skip\", image_bgr)\n",
    "            if event == cv2.EVENT_RBUTTONDOWN:\n",
    "                removal_points.append([x, y])\n",
    "                removal_labels.append(0)\n",
    "                cv2.circle(image_bgr, (x, y), 5, (0, 0, 255), -1)\n",
    "                cv2.imshow(\n",
    "                    \"Click points, press 's' to segment or 'k' to skip\", image_bgr\n",
    "                )\n",
    "\n",
    "        print(f\"\\nProcessing image: {fname}\")\n",
    "        cv2.imshow(\"Click points, press 's' to segment or 'k' to skip\", image_bgr)\n",
    "        cv2.setMouseCallback(\"Click points, press 's' to segment or 'k' to skip\", click_event)\n",
    "\n",
    "        key = None\n",
    "        # Wait for 's' to segment or 'k' to skip or 'ESC' to exit\n",
    "        while True:\n",
    "            key = cv2.waitKey(1)\n",
    "            if key == ord(\"s\") and click_points:\n",
    "                break\n",
    "            if key == ord(\"k\"):\n",
    "                print(\"⏭️ Skipping this image...\")\n",
    "                break\n",
    "            elif key == 27:\n",
    "                cv2.destroyAllWindows()\n",
    "                exit()\n",
    "\n",
    "        if key == ord(\"k\"):\n",
    "            break  # Move to next image\n",
    "\n",
    "        input_points = np.array(click_points + removal_points)\n",
    "        input_labels = np.array(click_labels + removal_labels)\n",
    "        masks, scores, logits = predictor.predict(\n",
    "            point_coords=input_points,\n",
    "            point_labels=input_labels,\n",
    "            multimask_output=False,\n",
    "        )\n",
    "        mask = masks[0]\n",
    "\n",
    "        result_overlay = image_bgr.copy()\n",
    "        result_overlay[mask] = [0, 255, 0]\n",
    "\n",
    "        # Show result and ask user to retry or accept\n",
    "        cv2.imshow(\"Result - press 'r' to retry or any key to accept\", result_overlay)\n",
    "        key = cv2.waitKey(0)\n",
    "        cv2.destroyAllWindows()\n",
    "\n",
    "        if key == ord(\"r\"):\n",
    "            print(\"🔁 Retrying segmentation for this image...\")\n",
    "            continue  # Re-do the same image\n",
    "\n",
    "        # Save segmentation result\n",
    "        base_name = os.path.splitext(fname)[0]\n",
    "        overlay_path = os.path.join(output_root, f\"{base_name}_segmented.png\")\n",
    "        cv2.imwrite(overlay_path, result_overlay)\n",
    "\n",
    "        coco_data = {\n",
    "            \"info\": {\n",
    "                \"description\": \"Manual SAM Segmentation\",\n",
    "                \"date_created\": datetime.now().isoformat(),\n",
    "            },\n",
    "            \"images\": [{\"id\": image_id, \"file_name\": fname, \"width\": w, \"height\": h}],\n",
    "            \"annotations\": [\n",
    "                {\n",
    "                    \"id\": annotation_id,\n",
    "                    \"image_id\": image_id,\n",
    "                    \"category_id\": 1,\n",
    "                    \"segmentation\": binary_mask_to_rle(mask),\n",
    "                    \"area\": int(mask.sum()),\n",
    "                    \"bbox\": list(cv2.boundingRect(mask.astype(np.uint8))),\n",
    "                    \"iscrowd\": 0,\n",
    "                }\n",
    "            ],\n",
    "            \"categories\": [{\"id\": 1, \"name\": \"object\"}],\n",
    "        }\n",
    "\n",
    "        json_path = os.path.join(output_root, f\"{base_name}.json\")\n",
    "        with open(json_path, \"w\") as f:\n",
    "            json.dump(coco_data, f)\n",
    "\n",
    "        # ✅ Save processed image info\n",
    "        processed_images.add(fname)\n",
    "        with open(processed_file, \"w\") as f:\n",
    "            json.dump(list(processed_images), f)\n",
    "\n",
    "        annotation_id += 1\n",
    "        image_id += 1\n",
    "        break  # Move to next image\n",
    "\n",
    "\n",
    "print(\"\\n✅ All segmentations complete. JSON and segmented images saved.\")"
   ]
  }
 ],
 "metadata": {
  "kernelspec": {
   "display_name": "Python 3",
   "language": "python",
   "name": "python3"
  },
  "language_info": {
   "codemirror_mode": {
    "name": "ipython",
    "version": 3
   },
   "file_extension": ".py",
   "mimetype": "text/x-python",
   "name": "python",
   "nbconvert_exporter": "python",
   "pygments_lexer": "ipython3",
   "version": "3.12.3"
  }
 },
 "nbformat": 4,
 "nbformat_minor": 5
}
