{
 "cells": [
  {
   "cell_type": "code",
   "execution_count": 1,
   "id": "80c833bf",
   "metadata": {},
   "outputs": [],
   "source": [
    "import os\n",
    "import cv2\n",
    "import json\n",
    "import torch\n",
    "import numpy as np\n",
    "from tqdm import tqdm\n",
    "from datetime import datetime\n",
    "from segment_anything import sam_model_registry, SamPredictor\n",
    "from pycocotools import mask as mask_utils"
   ]
  },
  {
   "cell_type": "code",
   "execution_count": 2,
   "id": "8725a608",
   "metadata": {},
   "outputs": [
    {
     "name": "stdout",
     "output_type": "stream",
     "text": [
      "True\n"
     ]
    }
   ],
   "source": [
    "print(torch.cuda.is_available())"
   ]
  },
  {
   "cell_type": "code",
   "execution_count": 3,
   "id": "da4df807",
   "metadata": {},
   "outputs": [],
   "source": [
    "image_folder = r\"Dataset_resized\"\n",
    "checkpoint_path = r\"C:\\Users\\poten\\Downloads\\sam_vit_h_4b8939.pth\"\n",
    "model_type = \"vit_h\"\n",
    "output_root = \"segmentation_outputs\"\n",
    "os.makedirs(output_root, exist_ok=True)"
   ]
  },
  {
   "cell_type": "code",
   "execution_count": 4,
   "id": "7f97fd87",
   "metadata": {},
   "outputs": [],
   "source": [
    "device = \"cuda\" if torch.cuda.is_available() else \"cpu\"\n",
    "sam = sam_model_registry[model_type](checkpoint=checkpoint_path)\n",
    "sam.to(device)\n",
    "predictor = SamPredictor(sam)"
   ]
  },
  {
   "cell_type": "code",
   "execution_count": 5,
   "id": "604b2e0f",
   "metadata": {},
   "outputs": [],
   "source": [
    "# Track processed images\n",
    "processed_file = os.path.join(output_root, \"processed_images.json\")\n",
    "if os.path.exists(processed_file):\n",
    "    with open(processed_file, \"r\") as f:\n",
    "        processed_images = set(json.load(f))\n",
    "else:\n",
    "    processed_images = set()"
   ]
  },
  {
   "cell_type": "code",
   "execution_count": 6,
   "id": "0e3b9bb9",
   "metadata": {},
   "outputs": [],
   "source": [
    "def binary_mask_to_rle(mask):\n",
    "    rle = mask_utils.encode(np.asfortranarray(mask.astype(np.uint8)))\n",
    "    rle[\"counts\"] = rle[\"counts\"].decode(\"utf-8\")  # bytes to str for JSON\n",
    "    return rle\n",
    "\n",
    "\n",
    "annotation_id = 1\n",
    "image_id = 1"
   ]
  },
  {
   "cell_type": "code",
   "execution_count": null,
   "id": "6e113852",
   "metadata": {},
   "outputs": [
    {
     "name": "stderr",
     "output_type": "stream",
     "text": [
      "  0%|          | 0/274 [00:00<?, ?it/s]"
     ]
    },
    {
     "name": "stdout",
     "output_type": "stream",
     "text": [
      "\n",
      "Processing image: 0_jpg.rf.5484f3c56fea80c4cc36bc078aecd21a.jpg\n"
     ]
    },
    {
     "name": "stderr",
     "output_type": "stream",
     "text": [
      "  0%|          | 1/274 [00:20<1:33:21, 20.52s/it]"
     ]
    },
    {
     "name": "stdout",
     "output_type": "stream",
     "text": [
      "\n",
      "Processing image: 100_jpg.rf.32f5c1bd3add8d5b2689a18dbd3be664.jpg\n"
     ]
    },
    {
     "name": "stderr",
     "output_type": "stream",
     "text": [
      "  1%|          | 2/274 [00:38<1:25:51, 18.94s/it]"
     ]
    },
    {
     "name": "stdout",
     "output_type": "stream",
     "text": [
      "\n",
      "Processing image: 101_jpg.rf.a66815459be0f1d3cfb370b87ca00137.jpg\n"
     ]
    },
    {
     "name": "stderr",
     "output_type": "stream",
     "text": [
      "  1%|          | 3/274 [00:46<1:03:48, 14.13s/it]"
     ]
    },
    {
     "name": "stdout",
     "output_type": "stream",
     "text": [
      "\n",
      "Processing image: 102_jpg.rf.19f81800e9e477cdd0f981e365301477.jpg\n"
     ]
    },
    {
     "name": "stderr",
     "output_type": "stream",
     "text": [
      "  1%|▏         | 4/274 [00:53<50:23, 11.20s/it]  "
     ]
    },
    {
     "name": "stdout",
     "output_type": "stream",
     "text": [
      "\n",
      "Processing image: 103_jpg.rf.c1e40cbd17568d3f72b310af02a41c66.jpg\n",
      "🔁 Retrying segmentation for this image...\n",
      "\n",
      "Processing image: 103_jpg.rf.c1e40cbd17568d3f72b310af02a41c66.jpg\n",
      "🔁 Retrying segmentation for this image...\n",
      "\n",
      "Processing image: 103_jpg.rf.c1e40cbd17568d3f72b310af02a41c66.jpg\n"
     ]
    },
    {
     "name": "stderr",
     "output_type": "stream",
     "text": [
      "  2%|▏         | 5/274 [01:22<1:19:12, 17.67s/it]"
     ]
    },
    {
     "name": "stdout",
     "output_type": "stream",
     "text": [
      "⏭️ Skipping this image...\n",
      "\n",
      "Processing image: 104_jpg.rf.705f300a904aa41cc352d180bd0799b4.jpg\n",
      "🔁 Retrying segmentation for this image...\n",
      "\n",
      "Processing image: 104_jpg.rf.705f300a904aa41cc352d180bd0799b4.jpg\n"
     ]
    },
    {
     "name": "stderr",
     "output_type": "stream",
     "text": [
      "  2%|▏         | 6/274 [01:52<1:37:29, 21.83s/it]"
     ]
    },
    {
     "name": "stdout",
     "output_type": "stream",
     "text": [
      "\n",
      "Processing image: 105_jpg.rf.ecfd04ff8f275ffb0ac1560ebdd0041c.jpg\n"
     ]
    },
    {
     "name": "stderr",
     "output_type": "stream",
     "text": [
      "  3%|▎         | 7/274 [02:04<1:23:00, 18.65s/it]"
     ]
    },
    {
     "name": "stdout",
     "output_type": "stream",
     "text": [
      "\n",
      "Processing image: 106_jpg.rf.d6ec40b01d450e3c5004f15dfb479455.jpg\n"
     ]
    },
    {
     "name": "stderr",
     "output_type": "stream",
     "text": [
      "  3%|▎         | 8/274 [02:14<1:09:54, 15.77s/it]"
     ]
    },
    {
     "name": "stdout",
     "output_type": "stream",
     "text": [
      "\n",
      "Processing image: 107_jpg.rf.be38761b0f02c875643afe61dd053aba.jpg\n"
     ]
    },
    {
     "name": "stderr",
     "output_type": "stream",
     "text": [
      "  3%|▎         | 9/274 [02:21<58:08, 13.16s/it]  "
     ]
    },
    {
     "name": "stdout",
     "output_type": "stream",
     "text": [
      "\n",
      "Processing image: 108_jpg.rf.d1aa38cbae668bb530f29e2735b632a4.jpg\n",
      "🔁 Retrying segmentation for this image...\n",
      "\n",
      "Processing image: 108_jpg.rf.d1aa38cbae668bb530f29e2735b632a4.jpg\n"
     ]
    },
    {
     "name": "stderr",
     "output_type": "stream",
     "text": [
      "  4%|▎         | 10/274 [02:43<1:09:54, 15.89s/it]"
     ]
    },
    {
     "name": "stdout",
     "output_type": "stream",
     "text": [
      "\n",
      "Processing image: 109_jpg.rf.98335cfaca77fd82e69874fa9ccf377d.jpg\n"
     ]
    },
    {
     "name": "stderr",
     "output_type": "stream",
     "text": [
      "  4%|▍         | 11/274 [02:51<58:54, 13.44s/it]  "
     ]
    },
    {
     "name": "stdout",
     "output_type": "stream",
     "text": [
      "\n",
      "Processing image: 10_jpg.rf.4762af3069dffc98b720e2834d29272f.jpg\n",
      "🔁 Retrying segmentation for this image...\n",
      "\n",
      "Processing image: 10_jpg.rf.4762af3069dffc98b720e2834d29272f.jpg\n",
      "🔁 Retrying segmentation for this image...\n",
      "\n",
      "Processing image: 10_jpg.rf.4762af3069dffc98b720e2834d29272f.jpg\n"
     ]
    },
    {
     "name": "stderr",
     "output_type": "stream",
     "text": [
      "  4%|▍         | 12/274 [03:35<1:38:44, 22.61s/it]"
     ]
    },
    {
     "name": "stdout",
     "output_type": "stream",
     "text": [
      "⏭️ Skipping this image...\n",
      "\n",
      "Processing image: 110_jpg.rf.a2a38f5f918ed64b90971b5e22ad8854.jpg\n"
     ]
    },
    {
     "name": "stderr",
     "output_type": "stream",
     "text": [
      "  5%|▍         | 13/274 [03:42<1:18:45, 18.10s/it]"
     ]
    },
    {
     "name": "stdout",
     "output_type": "stream",
     "text": [
      "\n",
      "Processing image: 111_jpg.rf.5ec02da5c60f47dbdcab5bbb5619f5e4.jpg\n"
     ]
    },
    {
     "name": "stderr",
     "output_type": "stream",
     "text": [
      "  5%|▌         | 14/274 [03:48<1:02:36, 14.45s/it]"
     ]
    },
    {
     "name": "stdout",
     "output_type": "stream",
     "text": [
      "\n",
      "Processing image: 112_jpg.rf.ddc0b773a84d0cb16abc57f4b20042c3.jpg\n"
     ]
    },
    {
     "name": "stderr",
     "output_type": "stream",
     "text": [
      "  5%|▌         | 15/274 [03:57<55:18, 12.81s/it]  "
     ]
    },
    {
     "name": "stdout",
     "output_type": "stream",
     "text": [
      "\n",
      "Processing image: 113_jpg.rf.7826c96da350110d4993e732f2ee0459.jpg\n"
     ]
    },
    {
     "name": "stderr",
     "output_type": "stream",
     "text": [
      "  6%|▌         | 16/274 [04:07<50:25, 11.73s/it]"
     ]
    },
    {
     "name": "stdout",
     "output_type": "stream",
     "text": [
      "\n",
      "Processing image: 114_jpg.rf.2fcc5df7518372e1d49db4f67c17280d.jpg\n"
     ]
    },
    {
     "name": "stderr",
     "output_type": "stream",
     "text": [
      "  6%|▌         | 17/274 [04:16<47:51, 11.17s/it]"
     ]
    },
    {
     "name": "stdout",
     "output_type": "stream",
     "text": [
      "\n",
      "Processing image: 115_jpg.rf.58fad00fa63faad2cb680df016e50b2f.jpg\n"
     ]
    },
    {
     "name": "stderr",
     "output_type": "stream",
     "text": [
      "  7%|▋         | 18/274 [04:23<41:30,  9.73s/it]"
     ]
    },
    {
     "name": "stdout",
     "output_type": "stream",
     "text": [
      "\n",
      "Processing image: 116_jpg.rf.12c382d23dac89773ba6f5efe695e1d3.jpg\n",
      "🔁 Retrying segmentation for this image...\n",
      "\n",
      "Processing image: 116_jpg.rf.12c382d23dac89773ba6f5efe695e1d3.jpg\n"
     ]
    },
    {
     "name": "stderr",
     "output_type": "stream",
     "text": [
      "  7%|▋         | 19/274 [04:41<52:22, 12.32s/it]"
     ]
    },
    {
     "name": "stdout",
     "output_type": "stream",
     "text": [
      "\n",
      "Processing image: 117_jpg.rf.b2f435d78d8497bb204e47e13af7ba7d.jpg\n"
     ]
    },
    {
     "name": "stderr",
     "output_type": "stream",
     "text": [
      "  7%|▋         | 20/274 [04:46<42:17,  9.99s/it]"
     ]
    },
    {
     "name": "stdout",
     "output_type": "stream",
     "text": [
      "\n",
      "Processing image: 118_jpg.rf.364ca3d01abeda12b3286d868f2232a2.jpg\n"
     ]
    },
    {
     "name": "stderr",
     "output_type": "stream",
     "text": [
      "  8%|▊         | 21/274 [04:51<35:44,  8.48s/it]"
     ]
    },
    {
     "name": "stdout",
     "output_type": "stream",
     "text": [
      "\n",
      "Processing image: 119_jpg.rf.fad195d819b9c6add2f37329a8b628c8.jpg\n"
     ]
    },
    {
     "name": "stderr",
     "output_type": "stream",
     "text": [
      "  8%|▊         | 22/274 [05:00<36:08,  8.61s/it]"
     ]
    },
    {
     "name": "stdout",
     "output_type": "stream",
     "text": [
      "\n",
      "Processing image: 11_jpg.rf.e635748d762cb77841c110e9c6d1aab1.jpg\n"
     ]
    },
    {
     "name": "stderr",
     "output_type": "stream",
     "text": [
      "  8%|▊         | 23/274 [05:05<31:31,  7.54s/it]"
     ]
    },
    {
     "name": "stdout",
     "output_type": "stream",
     "text": [
      "\n",
      "Processing image: 120_jpg.rf.d5f38eae3e8e4d99c578ddd461e1d67d.jpg\n"
     ]
    },
    {
     "name": "stderr",
     "output_type": "stream",
     "text": [
      "  9%|▉         | 24/274 [05:11<30:04,  7.22s/it]"
     ]
    },
    {
     "name": "stdout",
     "output_type": "stream",
     "text": [
      "\n",
      "Processing image: 121_jpg.rf.ea8c72204db1c88fc75a24f71e2bc3d7.jpg\n"
     ]
    },
    {
     "name": "stderr",
     "output_type": "stream",
     "text": [
      "  9%|▉         | 25/274 [05:18<29:26,  7.09s/it]"
     ]
    },
    {
     "name": "stdout",
     "output_type": "stream",
     "text": [
      "\n",
      "Processing image: 122_jpg.rf.8420505a04ea23488a577ed31c76f9e6.jpg\n",
      "🔁 Retrying segmentation for this image...\n",
      "\n",
      "Processing image: 122_jpg.rf.8420505a04ea23488a577ed31c76f9e6.jpg\n"
     ]
    },
    {
     "name": "stderr",
     "output_type": "stream",
     "text": [
      "  9%|▉         | 26/274 [05:37<44:48, 10.84s/it]"
     ]
    },
    {
     "name": "stdout",
     "output_type": "stream",
     "text": [
      "\n",
      "Processing image: 123_jpg.rf.c0316a37cee0adcc04f8b7117fce980e.jpg\n"
     ]
    },
    {
     "name": "stderr",
     "output_type": "stream",
     "text": [
      " 10%|▉         | 27/274 [05:46<42:16, 10.27s/it]"
     ]
    },
    {
     "name": "stdout",
     "output_type": "stream",
     "text": [
      "\n",
      "Processing image: 124_jpg.rf.a34a9bae859d537ea49a7d27a58c4118.jpg\n"
     ]
    },
    {
     "name": "stderr",
     "output_type": "stream",
     "text": [
      " 10%|█         | 28/274 [05:55<40:07,  9.78s/it]"
     ]
    },
    {
     "name": "stdout",
     "output_type": "stream",
     "text": [
      "\n",
      "Processing image: 125_jpg.rf.534a41e0372445f5974d5661d65e4bbe.jpg\n"
     ]
    },
    {
     "name": "stderr",
     "output_type": "stream",
     "text": [
      " 11%|█         | 29/274 [06:02<36:36,  8.97s/it]"
     ]
    },
    {
     "name": "stdout",
     "output_type": "stream",
     "text": [
      "\n",
      "Processing image: 126_jpg.rf.bebd070ead28c77dc8fc43da5e66b5e0.jpg\n"
     ]
    },
    {
     "name": "stderr",
     "output_type": "stream",
     "text": [
      " 11%|█         | 30/274 [06:08<32:10,  7.91s/it]"
     ]
    },
    {
     "name": "stdout",
     "output_type": "stream",
     "text": [
      "\n",
      "Processing image: 127_jpg.rf.463e546c9f346ef86ddfb05dfde5782f.jpg\n"
     ]
    },
    {
     "name": "stderr",
     "output_type": "stream",
     "text": [
      " 11%|█▏        | 31/274 [06:15<30:58,  7.65s/it]"
     ]
    },
    {
     "name": "stdout",
     "output_type": "stream",
     "text": [
      "\n",
      "Processing image: 128_jpg.rf.a160045cc260d5aece65966aff465a07.jpg\n"
     ]
    },
    {
     "name": "stderr",
     "output_type": "stream",
     "text": [
      " 12%|█▏        | 32/274 [06:19<27:08,  6.73s/it]"
     ]
    },
    {
     "name": "stdout",
     "output_type": "stream",
     "text": [
      "\n",
      "Processing image: 129_jpg.rf.804ebd48181fc5d4dc4170eb9c558269.jpg\n"
     ]
    },
    {
     "name": "stderr",
     "output_type": "stream",
     "text": [
      " 12%|█▏        | 33/274 [06:30<31:51,  7.93s/it]"
     ]
    },
    {
     "name": "stdout",
     "output_type": "stream",
     "text": [
      "\n",
      "Processing image: 12_jpg.rf.8d7cf067146c88073fc42ea6fb69b1e7.jpg\n"
     ]
    },
    {
     "name": "stderr",
     "output_type": "stream",
     "text": [
      " 12%|█▏        | 34/274 [06:38<31:54,  7.98s/it]"
     ]
    },
    {
     "name": "stdout",
     "output_type": "stream",
     "text": [
      "\n",
      "Processing image: 130_jpg.rf.b7b4f5ff16e8127b99b45d156754789b.jpg\n",
      "🔁 Retrying segmentation for this image...\n",
      "\n",
      "Processing image: 130_jpg.rf.b7b4f5ff16e8127b99b45d156754789b.jpg\n",
      "🔁 Retrying segmentation for this image...\n",
      "\n",
      "Processing image: 130_jpg.rf.b7b4f5ff16e8127b99b45d156754789b.jpg\n"
     ]
    },
    {
     "name": "stderr",
     "output_type": "stream",
     "text": [
      " 13%|█▎        | 35/274 [08:17<2:20:56, 35.38s/it]"
     ]
    },
    {
     "name": "stdout",
     "output_type": "stream",
     "text": [
      "⏭️ Skipping this image...\n",
      "\n",
      "Processing image: 131_jpg.rf.6faf94b21626fc5d7e80ebe864eb16a5.jpg\n"
     ]
    },
    {
     "name": "stderr",
     "output_type": "stream",
     "text": [
      " 13%|█▎        | 36/274 [08:30<1:53:00, 28.49s/it]"
     ]
    },
    {
     "name": "stdout",
     "output_type": "stream",
     "text": [
      "\n",
      "Processing image: 132_jpg.rf.a80a66d98ff9b654141a55aeb2884996.jpg\n"
     ]
    },
    {
     "name": "stderr",
     "output_type": "stream",
     "text": [
      " 14%|█▎        | 37/274 [08:37<1:27:35, 22.18s/it]"
     ]
    },
    {
     "name": "stdout",
     "output_type": "stream",
     "text": [
      "\n",
      "Processing image: 133-1-_jpg.rf.461392b192e2cfc5abf635267bc31465.jpg\n"
     ]
    },
    {
     "name": "stderr",
     "output_type": "stream",
     "text": [
      " 14%|█▍        | 38/274 [08:51<1:17:22, 19.67s/it]"
     ]
    },
    {
     "name": "stdout",
     "output_type": "stream",
     "text": [
      "\n",
      "Processing image: 133_jpg.rf.4887474130e893472434e0dc0c2a9912.jpg\n"
     ]
    },
    {
     "name": "stderr",
     "output_type": "stream",
     "text": [
      " 14%|█▍        | 39/274 [08:58<1:02:23, 15.93s/it]"
     ]
    },
    {
     "name": "stdout",
     "output_type": "stream",
     "text": [
      "\n",
      "Processing image: 134_jpg.rf.95b53f01acdd07812070c03bf4902526.jpg\n"
     ]
    },
    {
     "name": "stderr",
     "output_type": "stream",
     "text": [
      " 15%|█▍        | 40/274 [09:06<52:02, 13.34s/it]  "
     ]
    },
    {
     "name": "stdout",
     "output_type": "stream",
     "text": [
      "\n",
      "Processing image: 135_jpg.rf.bf9542f31ad0a4d2fcdbef9390d055f5.jpg\n",
      "🔁 Retrying segmentation for this image...\n",
      "\n",
      "Processing image: 135_jpg.rf.bf9542f31ad0a4d2fcdbef9390d055f5.jpg\n"
     ]
    },
    {
     "name": "stderr",
     "output_type": "stream",
     "text": [
      " 15%|█▍        | 41/274 [09:21<54:44, 14.10s/it]"
     ]
    },
    {
     "name": "stdout",
     "output_type": "stream",
     "text": [
      "⏭️ Skipping this image...\n",
      "\n",
      "Processing image: 136_jpg.rf.2a7959f5c44d7f06f03fc05fc69de7b8.jpg\n",
      "🔁 Retrying segmentation for this image...\n",
      "\n",
      "Processing image: 136_jpg.rf.2a7959f5c44d7f06f03fc05fc69de7b8.jpg\n"
     ]
    },
    {
     "name": "stderr",
     "output_type": "stream",
     "text": [
      " 15%|█▌        | 42/274 [09:53<1:14:13, 19.20s/it]"
     ]
    },
    {
     "name": "stdout",
     "output_type": "stream",
     "text": [
      "\n",
      "Processing image: 137_jpg.rf.b377cd40dea15934f2d2ca0f4ddd937e.jpg\n",
      "🔁 Retrying segmentation for this image...\n",
      "\n",
      "Processing image: 137_jpg.rf.b377cd40dea15934f2d2ca0f4ddd937e.jpg\n",
      "🔁 Retrying segmentation for this image...\n",
      "\n",
      "Processing image: 137_jpg.rf.b377cd40dea15934f2d2ca0f4ddd937e.jpg\n"
     ]
    },
    {
     "name": "stderr",
     "output_type": "stream",
     "text": [
      " 16%|█▌        | 43/274 [10:20<1:23:42, 21.74s/it]"
     ]
    },
    {
     "name": "stdout",
     "output_type": "stream",
     "text": [
      "⏭️ Skipping this image...\n",
      "\n",
      "Processing image: 138_jpg.rf.54cd2559ea28b80b17ed16a761f9dcd0.jpg\n"
     ]
    },
    {
     "name": "stderr",
     "output_type": "stream",
     "text": [
      " 16%|█▌        | 44/274 [10:33<1:13:05, 19.07s/it]"
     ]
    },
    {
     "name": "stdout",
     "output_type": "stream",
     "text": [
      "\n",
      "Processing image: 139_jpg.rf.6d9a2e51a0465410735ebf132167d983.jpg\n"
     ]
    },
    {
     "name": "stderr",
     "output_type": "stream",
     "text": [
      " 16%|█▋        | 45/274 [10:40<58:56, 15.44s/it]  "
     ]
    },
    {
     "name": "stdout",
     "output_type": "stream",
     "text": [
      "\n",
      "Processing image: 13_jpg.rf.8ee5c5d0d32b24b49174e15260c78bc9.jpg\n"
     ]
    },
    {
     "name": "stderr",
     "output_type": "stream",
     "text": [
      " 17%|█▋        | 46/274 [10:57<1:00:53, 16.03s/it]"
     ]
    },
    {
     "name": "stdout",
     "output_type": "stream",
     "text": [
      "\n",
      "Processing image: 140_jpg.rf.5b6e56f6236b8cb6642b493bbdbcf749.jpg\n"
     ]
    },
    {
     "name": "stderr",
     "output_type": "stream",
     "text": [
      " 17%|█▋        | 47/274 [11:06<51:59, 13.74s/it]  "
     ]
    },
    {
     "name": "stdout",
     "output_type": "stream",
     "text": [
      "\n",
      "Processing image: 141_jpg.rf.10dc683093e09d9e5a5c4a4495673357.jpg\n"
     ]
    },
    {
     "name": "stderr",
     "output_type": "stream",
     "text": [
      " 18%|█▊        | 48/274 [11:12<43:41, 11.60s/it]"
     ]
    },
    {
     "name": "stdout",
     "output_type": "stream",
     "text": [
      "\n",
      "Processing image: 142_jpg.rf.c04b5fd1f1fdbd25a96195a8287157b0.jpg\n",
      "🔁 Retrying segmentation for this image...\n",
      "\n",
      "Processing image: 142_jpg.rf.c04b5fd1f1fdbd25a96195a8287157b0.jpg\n"
     ]
    },
    {
     "name": "stderr",
     "output_type": "stream",
     "text": [
      " 18%|█▊        | 49/274 [11:27<47:05, 12.56s/it]"
     ]
    },
    {
     "name": "stdout",
     "output_type": "stream",
     "text": [
      "⏭️ Skipping this image...\n",
      "\n",
      "Processing image: 143-1-_jpg.rf.3e6ddd8d31df529f76f0fda2ff0b3c6b.jpg\n",
      "🔁 Retrying segmentation for this image...\n",
      "\n",
      "Processing image: 143-1-_jpg.rf.3e6ddd8d31df529f76f0fda2ff0b3c6b.jpg\n",
      "🔁 Retrying segmentation for this image...\n",
      "\n",
      "Processing image: 143-1-_jpg.rf.3e6ddd8d31df529f76f0fda2ff0b3c6b.jpg\n"
     ]
    },
    {
     "name": "stderr",
     "output_type": "stream",
     "text": [
      " 18%|█▊        | 50/274 [11:55<1:03:28, 17.00s/it]"
     ]
    },
    {
     "name": "stdout",
     "output_type": "stream",
     "text": [
      "⏭️ Skipping this image...\n",
      "\n",
      "Processing image: 143_jpg.rf.e0390215af6abfd434e91208309b79c6.jpg\n"
     ]
    },
    {
     "name": "stderr",
     "output_type": "stream",
     "text": [
      " 19%|█▊        | 51/274 [12:02<52:35, 14.15s/it]  "
     ]
    },
    {
     "name": "stdout",
     "output_type": "stream",
     "text": [
      "\n",
      "Processing image: 144_jpg.rf.b9c62478b1a85ec28cdb9343bc6c8070.jpg\n"
     ]
    },
    {
     "name": "stderr",
     "output_type": "stream",
     "text": [
      " 19%|█▉        | 52/274 [12:14<49:26, 13.36s/it]"
     ]
    },
    {
     "name": "stdout",
     "output_type": "stream",
     "text": [
      "\n",
      "Processing image: 145_jpg.rf.4925cd98f6665a2fbf389dee50331ee3.jpg\n",
      "🔁 Retrying segmentation for this image...\n",
      "\n",
      "Processing image: 145_jpg.rf.4925cd98f6665a2fbf389dee50331ee3.jpg\n"
     ]
    },
    {
     "name": "stderr",
     "output_type": "stream",
     "text": [
      " 19%|█▉        | 53/274 [12:43<1:07:28, 18.32s/it]"
     ]
    },
    {
     "name": "stdout",
     "output_type": "stream",
     "text": [
      "\n",
      "Processing image: 146_jpg.rf.ab37784c1a5e10f09b42c4976310c1fd.jpg\n"
     ]
    },
    {
     "name": "stderr",
     "output_type": "stream",
     "text": [
      " 20%|█▉        | 54/274 [12:54<58:53, 16.06s/it]  "
     ]
    },
    {
     "name": "stdout",
     "output_type": "stream",
     "text": [
      "\n",
      "Processing image: 147_jpg.rf.efef8d54699006863ebbbe74efbdabbf.jpg\n"
     ]
    },
    {
     "name": "stderr",
     "output_type": "stream",
     "text": [
      " 20%|██        | 55/274 [13:04<51:28, 14.10s/it]"
     ]
    },
    {
     "name": "stdout",
     "output_type": "stream",
     "text": [
      "\n",
      "Processing image: 148_jpg.rf.7ee13bb3ca958299ce21dc468ebc8186.jpg\n",
      "🔁 Retrying segmentation for this image...\n",
      "\n",
      "Processing image: 148_jpg.rf.7ee13bb3ca958299ce21dc468ebc8186.jpg\n"
     ]
    },
    {
     "name": "stderr",
     "output_type": "stream",
     "text": [
      " 20%|██        | 56/274 [13:26<1:00:19, 16.60s/it]"
     ]
    },
    {
     "name": "stdout",
     "output_type": "stream",
     "text": [
      "\n",
      "Processing image: 149_jpg.rf.f1578c632cc855d7d724a72ce8fbc97a.jpg\n"
     ]
    },
    {
     "name": "stderr",
     "output_type": "stream",
     "text": [
      " 21%|██        | 57/274 [13:35<51:08, 14.14s/it]  "
     ]
    },
    {
     "name": "stdout",
     "output_type": "stream",
     "text": [
      "\n",
      "Processing image: 14_jpg.rf.a179028e3bb8545d3ebc6aeacdaadb1f.jpg\n",
      "🔁 Retrying segmentation for this image...\n",
      "\n",
      "Processing image: 14_jpg.rf.a179028e3bb8545d3ebc6aeacdaadb1f.jpg\n",
      "🔁 Retrying segmentation for this image...\n",
      "\n",
      "Processing image: 14_jpg.rf.a179028e3bb8545d3ebc6aeacdaadb1f.jpg\n"
     ]
    },
    {
     "name": "stderr",
     "output_type": "stream",
     "text": [
      " 21%|██        | 58/274 [14:40<1:46:28, 29.58s/it]"
     ]
    },
    {
     "name": "stdout",
     "output_type": "stream",
     "text": [
      "⏭️ Skipping this image...\n",
      "\n",
      "Processing image: 150_jpg.rf.2ec6c1bb28b282dcd8c71580ed035697.jpg\n"
     ]
    },
    {
     "name": "stderr",
     "output_type": "stream",
     "text": [
      " 22%|██▏       | 59/274 [14:52<1:26:45, 24.21s/it]"
     ]
    },
    {
     "name": "stdout",
     "output_type": "stream",
     "text": [
      "\n",
      "Processing image: 152_jpg.rf.b10d398d802fba00de99e3c12afcc83d.jpg\n",
      "🔁 Retrying segmentation for this image...\n",
      "\n",
      "Processing image: 152_jpg.rf.b10d398d802fba00de99e3c12afcc83d.jpg\n"
     ]
    },
    {
     "name": "stderr",
     "output_type": "stream",
     "text": [
      " 22%|██▏       | 60/274 [15:20<1:30:07, 25.27s/it]"
     ]
    },
    {
     "name": "stdout",
     "output_type": "stream",
     "text": [
      "\n",
      "Processing image: 153_jpg.rf.8c8afe6f9a62ea79e6f940da850bb794.jpg\n"
     ]
    },
    {
     "name": "stderr",
     "output_type": "stream",
     "text": [
      " 22%|██▏       | 61/274 [15:30<1:13:27, 20.69s/it]"
     ]
    },
    {
     "name": "stdout",
     "output_type": "stream",
     "text": [
      "\n",
      "Processing image: 154_jpg.rf.c9a01c37eeca005f1d9d1feec04aa317.jpg\n"
     ]
    },
    {
     "name": "stderr",
     "output_type": "stream",
     "text": [
      " 23%|██▎       | 62/274 [15:37<59:13, 16.76s/it]  "
     ]
    },
    {
     "name": "stdout",
     "output_type": "stream",
     "text": [
      "\n",
      "Processing image: 155_jpg.rf.9945d889e533c5b102c6d567f99b07cb.jpg\n"
     ]
    },
    {
     "name": "stderr",
     "output_type": "stream",
     "text": [
      " 23%|██▎       | 63/274 [15:45<48:56, 13.92s/it]"
     ]
    },
    {
     "name": "stdout",
     "output_type": "stream",
     "text": [
      "\n",
      "Processing image: 156_jpg.rf.2c3f7cc94b0ef548d899bbccb6d249f6.jpg\n"
     ]
    },
    {
     "name": "stderr",
     "output_type": "stream",
     "text": [
      " 23%|██▎       | 64/274 [15:52<41:31, 11.86s/it]"
     ]
    },
    {
     "name": "stdout",
     "output_type": "stream",
     "text": [
      "\n",
      "Processing image: 157_jpg.rf.871d90c1727f25041609200c27ca9308.jpg\n"
     ]
    },
    {
     "name": "stderr",
     "output_type": "stream",
     "text": [
      " 24%|██▎       | 65/274 [15:57<34:05,  9.79s/it]"
     ]
    },
    {
     "name": "stdout",
     "output_type": "stream",
     "text": [
      "⏭️ Skipping this image...\n",
      "\n",
      "Processing image: 158_jpg.rf.6812eef0ade84db1f7f3f14e9c69e7e3.jpg\n"
     ]
    },
    {
     "name": "stderr",
     "output_type": "stream",
     "text": [
      " 24%|██▍       | 66/274 [16:01<28:37,  8.26s/it]"
     ]
    },
    {
     "name": "stdout",
     "output_type": "stream",
     "text": [
      "⏭️ Skipping this image...\n",
      "\n",
      "Processing image: 159_jpg.rf.833598260af830da3198cfae79798b4d.jpg\n"
     ]
    },
    {
     "name": "stderr",
     "output_type": "stream",
     "text": [
      " 24%|██▍       | 67/274 [16:04<22:33,  6.54s/it]"
     ]
    },
    {
     "name": "stdout",
     "output_type": "stream",
     "text": [
      "⏭️ Skipping this image...\n",
      "\n",
      "Processing image: 15_jpg.rf.ca194357bb75d1138609feb5d077e6fd.jpg\n"
     ]
    },
    {
     "name": "stderr",
     "output_type": "stream",
     "text": [
      " 25%|██▍       | 68/274 [16:21<32:58,  9.60s/it]"
     ]
    },
    {
     "name": "stdout",
     "output_type": "stream",
     "text": [
      "\n",
      "Processing image: 161_jpg.rf.3be9f018c003ba350ff054c43f8cc8e6.jpg\n"
     ]
    },
    {
     "name": "stderr",
     "output_type": "stream",
     "text": [
      " 25%|██▌       | 69/274 [16:27<29:06,  8.52s/it]"
     ]
    },
    {
     "name": "stdout",
     "output_type": "stream",
     "text": [
      "\n",
      "Processing image: 162_jpg.rf.f9c2d26b532ba2e2035886216c281239.jpg\n"
     ]
    },
    {
     "name": "stderr",
     "output_type": "stream",
     "text": [
      " 26%|██▌       | 70/274 [16:34<27:42,  8.15s/it]"
     ]
    },
    {
     "name": "stdout",
     "output_type": "stream",
     "text": [
      "\n",
      "Processing image: 163_jpg.rf.6ce835a679b70598fb109785985e9afb.jpg\n"
     ]
    },
    {
     "name": "stderr",
     "output_type": "stream",
     "text": [
      " 26%|██▌       | 71/274 [16:42<27:28,  8.12s/it]"
     ]
    },
    {
     "name": "stdout",
     "output_type": "stream",
     "text": [
      "\n",
      "Processing image: 164_jpg.rf.5459e75633597f801cd8925e03ecabb1.jpg\n"
     ]
    },
    {
     "name": "stderr",
     "output_type": "stream",
     "text": [
      " 26%|██▋       | 72/274 [16:53<30:16,  8.99s/it]"
     ]
    },
    {
     "name": "stdout",
     "output_type": "stream",
     "text": [
      "\n",
      "Processing image: 165_jpg.rf.525693b53f53384db1af8e50be11f407.jpg\n"
     ]
    },
    {
     "name": "stderr",
     "output_type": "stream",
     "text": [
      " 27%|██▋       | 73/274 [16:58<26:41,  7.97s/it]"
     ]
    },
    {
     "name": "stdout",
     "output_type": "stream",
     "text": [
      "\n",
      "Processing image: 166_jpg.rf.778ff45e22b4c6ab1ef3dfa07c6f35a6.jpg\n",
      "🔁 Retrying segmentation for this image...\n",
      "\n",
      "Processing image: 166_jpg.rf.778ff45e22b4c6ab1ef3dfa07c6f35a6.jpg\n",
      "🔁 Retrying segmentation for this image...\n",
      "\n",
      "Processing image: 166_jpg.rf.778ff45e22b4c6ab1ef3dfa07c6f35a6.jpg\n"
     ]
    },
    {
     "name": "stderr",
     "output_type": "stream",
     "text": [
      " 27%|██▋       | 74/274 [17:23<43:30, 13.05s/it]"
     ]
    },
    {
     "name": "stdout",
     "output_type": "stream",
     "text": [
      "\n",
      "Processing image: 167_jpg.rf.b666d05886f3aa0af568ebbf92da9e93.jpg\n"
     ]
    },
    {
     "name": "stderr",
     "output_type": "stream",
     "text": [
      " 27%|██▋       | 75/274 [17:34<41:01, 12.37s/it]"
     ]
    },
    {
     "name": "stdout",
     "output_type": "stream",
     "text": [
      "\n",
      "Processing image: 168_jpg.rf.6a54dfe8c993647a803b1276287d53d3.jpg\n",
      "🔁 Retrying segmentation for this image...\n",
      "\n",
      "Processing image: 168_jpg.rf.6a54dfe8c993647a803b1276287d53d3.jpg\n"
     ]
    },
    {
     "name": "stderr",
     "output_type": "stream",
     "text": [
      " 28%|██▊       | 76/274 [18:06<1:00:30, 18.34s/it]"
     ]
    },
    {
     "name": "stdout",
     "output_type": "stream",
     "text": [
      "\n",
      "Processing image: 169_jpg.rf.a689449387fec3be516cc679a3e70747.jpg\n"
     ]
    },
    {
     "name": "stderr",
     "output_type": "stream",
     "text": [
      " 28%|██▊       | 77/274 [18:14<50:04, 15.25s/it]  "
     ]
    },
    {
     "name": "stdout",
     "output_type": "stream",
     "text": [
      "\n",
      "Processing image: 170_jpg.rf.b225ea60cf8838f98856a0523059bf68.jpg\n"
     ]
    },
    {
     "name": "stderr",
     "output_type": "stream",
     "text": [
      " 28%|██▊       | 78/274 [18:25<45:29, 13.93s/it]"
     ]
    },
    {
     "name": "stdout",
     "output_type": "stream",
     "text": [
      "\n",
      "Processing image: 171_jpg.rf.b32e8a6fd37c8835f0d1691bdb8cccb5.jpg\n"
     ]
    },
    {
     "name": "stderr",
     "output_type": "stream",
     "text": [
      " 29%|██▉       | 79/274 [18:34<39:46, 12.24s/it]"
     ]
    },
    {
     "name": "stdout",
     "output_type": "stream",
     "text": [
      "\n",
      "Processing image: 172_jpg.rf.b565089477c87fd7370eeae6e6f62199.jpg\n"
     ]
    },
    {
     "name": "stderr",
     "output_type": "stream",
     "text": [
      " 29%|██▉       | 80/274 [18:41<34:33, 10.69s/it]"
     ]
    },
    {
     "name": "stdout",
     "output_type": "stream",
     "text": [
      "\n",
      "Processing image: 17_jpg.rf.7bb29698b0df332fcd9e0b5c5ab3c6c0.jpg\n",
      "🔁 Retrying segmentation for this image...\n",
      "\n",
      "Processing image: 17_jpg.rf.7bb29698b0df332fcd9e0b5c5ab3c6c0.jpg\n"
     ]
    },
    {
     "name": "stderr",
     "output_type": "stream",
     "text": [
      " 30%|██▉       | 81/274 [19:16<58:26, 18.17s/it]"
     ]
    },
    {
     "name": "stdout",
     "output_type": "stream",
     "text": [
      "\n",
      "Processing image: 17_jpg.rf.c8b0e6ef75fbecb0eb5d876647be0362.jpg\n"
     ]
    },
    {
     "name": "stderr",
     "output_type": "stream",
     "text": [
      " 30%|██▉       | 82/274 [19:24<47:57, 14.99s/it]"
     ]
    },
    {
     "name": "stdout",
     "output_type": "stream",
     "text": [
      "⏭️ Skipping this image...\n",
      "\n",
      "Processing image: 19_jpg.rf.a04ab13384fb81e753408bf4ebfeeb9f.jpg\n"
     ]
    },
    {
     "name": "stderr",
     "output_type": "stream",
     "text": [
      " 30%|███       | 83/274 [19:30<39:23, 12.37s/it]"
     ]
    },
    {
     "name": "stdout",
     "output_type": "stream",
     "text": [
      "\n",
      "Processing image: 1_jpg.rf.25de7a2e65beda36acb290a2f31d6849.jpg\n"
     ]
    },
    {
     "name": "stderr",
     "output_type": "stream",
     "text": [
      " 31%|███       | 84/274 [19:37<34:02, 10.75s/it]"
     ]
    },
    {
     "name": "stdout",
     "output_type": "stream",
     "text": [
      "\n",
      "Processing image: 20_jpg.rf.ff81837c651b388c20fb76cc5bb33795.jpg\n"
     ]
    },
    {
     "name": "stderr",
     "output_type": "stream",
     "text": [
      " 31%|███       | 85/274 [19:46<31:54, 10.13s/it]"
     ]
    },
    {
     "name": "stdout",
     "output_type": "stream",
     "text": [
      "\n",
      "Processing image: 21_jpg.rf.eb216bfcb5639c1691226a9e76831347.jpg\n"
     ]
    },
    {
     "name": "stderr",
     "output_type": "stream",
     "text": [
      " 31%|███▏      | 86/274 [19:55<30:59,  9.89s/it]"
     ]
    },
    {
     "name": "stdout",
     "output_type": "stream",
     "text": [
      "\n",
      "Processing image: 22_jpg.rf.bb0c86c634effe16b135b24d62a4ace7.jpg\n"
     ]
    },
    {
     "name": "stderr",
     "output_type": "stream",
     "text": [
      " 32%|███▏      | 87/274 [20:04<29:37,  9.51s/it]"
     ]
    },
    {
     "name": "stdout",
     "output_type": "stream",
     "text": [
      "\n",
      "Processing image: 23_jpg.rf.56ce0bfc8a462106f635fba431328851.jpg\n"
     ]
    },
    {
     "name": "stderr",
     "output_type": "stream",
     "text": [
      " 32%|███▏      | 88/274 [20:12<28:35,  9.23s/it]"
     ]
    },
    {
     "name": "stdout",
     "output_type": "stream",
     "text": [
      "\n",
      "Processing image: 27_jpg.rf.43e4e9ad077ee66bd11494b71b86798d.jpg\n"
     ]
    },
    {
     "name": "stderr",
     "output_type": "stream",
     "text": [
      " 32%|███▏      | 89/274 [20:19<26:01,  8.44s/it]"
     ]
    },
    {
     "name": "stdout",
     "output_type": "stream",
     "text": [
      "\n",
      "Processing image: 28_jpg.rf.48b204cffa21b4907393c330a0692cb7.jpg\n",
      "🔁 Retrying segmentation for this image...\n",
      "\n",
      "Processing image: 28_jpg.rf.48b204cffa21b4907393c330a0692cb7.jpg\n"
     ]
    },
    {
     "name": "stderr",
     "output_type": "stream",
     "text": [
      " 33%|███▎      | 90/274 [20:32<30:28,  9.94s/it]"
     ]
    },
    {
     "name": "stdout",
     "output_type": "stream",
     "text": [
      "⏭️ Skipping this image...\n",
      "\n",
      "Processing image: 29_jpg.rf.03c0d1b69129c7a01a9ced1f384c69f3.jpg\n"
     ]
    },
    {
     "name": "stderr",
     "output_type": "stream",
     "text": [
      " 33%|███▎      | 91/274 [20:43<30:59, 10.16s/it]"
     ]
    },
    {
     "name": "stdout",
     "output_type": "stream",
     "text": [
      "\n",
      "Processing image: 2_jpg.rf.f7f4e20a2912ff27560ef1a15774de05.jpg\n",
      "🔁 Retrying segmentation for this image...\n",
      "\n",
      "Processing image: 2_jpg.rf.f7f4e20a2912ff27560ef1a15774de05.jpg\n"
     ]
    },
    {
     "name": "stderr",
     "output_type": "stream",
     "text": [
      " 34%|███▎      | 92/274 [21:05<41:48, 13.79s/it]"
     ]
    },
    {
     "name": "stdout",
     "output_type": "stream",
     "text": [
      "\n",
      "Processing image: 31_jpg.rf.e73567c0afcb297aa739e4de3bf6d017.jpg\n"
     ]
    },
    {
     "name": "stderr",
     "output_type": "stream",
     "text": [
      " 34%|███▍      | 93/274 [21:10<33:44, 11.19s/it]"
     ]
    },
    {
     "name": "stdout",
     "output_type": "stream",
     "text": [
      "\n",
      "Processing image: 32_jpg.rf.73ba1db2cfe76b2db75b614383b8e5e3.jpg\n"
     ]
    }
   ],
   "source": [
    "for fname in tqdm(os.listdir(image_folder)):\n",
    "    if not fname.lower().endswith((\".png\", \".jpg\", \".jpeg\")):\n",
    "        continue\n",
    "    if fname in processed_images:\n",
    "        continue\n",
    "\n",
    "    while True:\n",
    "        image_path = os.path.join(image_folder, fname)\n",
    "        image_bgr = cv2.imread(image_path)\n",
    "        image_rgb = cv2.cvtColor(image_bgr, cv2.COLOR_BGR2RGB)\n",
    "        h, w = image_rgb.shape[:2]\n",
    "\n",
    "        predictor.set_image(image_rgb)\n",
    "\n",
    "        click_points = []\n",
    "        click_labels = []\n",
    "\n",
    "        def click_event(event, x, y, flags, param):\n",
    "            if event == cv2.EVENT_LBUTTONDOWN:\n",
    "                click_points.append([x, y])\n",
    "                click_labels.append(1)\n",
    "                cv2.circle(image_bgr, (x, y), 5, (0, 255, 0), -1)\n",
    "                cv2.imshow(\"Click points, press 's' to segment or 'k' to skip\", image_bgr)\n",
    "\n",
    "        print(f\"\\nProcessing image: {fname}\")\n",
    "        cv2.imshow(\"Click points, press 's' to segment or 'k' to skip\", image_bgr)\n",
    "        cv2.setMouseCallback(\"Click points, press 's' to segment or 'k' to skip\", click_event)\n",
    "\n",
    "        key = None\n",
    "        # Wait for 's' to segment or 'k' to skip or 'ESC' to exit\n",
    "        while True:\n",
    "            key = cv2.waitKey(1)\n",
    "            if key == ord(\"s\") and click_points:\n",
    "                break\n",
    "            if key == ord(\"k\"):\n",
    "                print(\"⏭️ Skipping this image...\")\n",
    "                break\n",
    "            elif key == 27:\n",
    "                cv2.destroyAllWindows()\n",
    "                exit()\n",
    "\n",
    "        if key == ord(\"k\"):\n",
    "            break  # Move to next image\n",
    "\n",
    "        input_points = np.array(click_points)\n",
    "        input_labels = np.array(click_labels)\n",
    "        masks, scores, logits = predictor.predict(\n",
    "            point_coords=input_points,\n",
    "            point_labels=input_labels,\n",
    "            multimask_output=False,\n",
    "        )\n",
    "        mask = masks[0]\n",
    "\n",
    "        result_overlay = image_bgr.copy()\n",
    "        result_overlay[mask] = [0, 255, 0]\n",
    "\n",
    "        # Show result and ask user to retry or accept\n",
    "        cv2.imshow(\"Result - press 'r' to retry or any key to accept\", result_overlay)\n",
    "        key = cv2.waitKey(0)\n",
    "        cv2.destroyAllWindows()\n",
    "\n",
    "        if key == ord(\"r\"):\n",
    "            print(\"🔁 Retrying segmentation for this image...\")\n",
    "            continue  # Re-do the same image\n",
    "\n",
    "        # Save segmentation result\n",
    "        base_name = os.path.splitext(fname)[0]\n",
    "        overlay_path = os.path.join(output_root, f\"{base_name}_segmented.png\")\n",
    "        cv2.imwrite(overlay_path, result_overlay)\n",
    "\n",
    "        coco_data = {\n",
    "            \"info\": {\n",
    "                \"description\": \"Manual SAM Segmentation\",\n",
    "                \"date_created\": datetime.now().isoformat(),\n",
    "            },\n",
    "            \"images\": [{\"id\": image_id, \"file_name\": fname, \"width\": w, \"height\": h}],\n",
    "            \"annotations\": [\n",
    "                {\n",
    "                    \"id\": annotation_id,\n",
    "                    \"image_id\": image_id,\n",
    "                    \"category_id\": 1,\n",
    "                    \"segmentation\": binary_mask_to_rle(mask),\n",
    "                    \"area\": int(mask.sum()),\n",
    "                    \"bbox\": list(cv2.boundingRect(mask.astype(np.uint8))),\n",
    "                    \"iscrowd\": 0,\n",
    "                }\n",
    "            ],\n",
    "            \"categories\": [{\"id\": 1, \"name\": \"object\"}],\n",
    "        }\n",
    "\n",
    "        json_path = os.path.join(output_root, f\"{base_name}.json\")\n",
    "        with open(json_path, \"w\") as f:\n",
    "            json.dump(coco_data, f)\n",
    "\n",
    "        # ✅ Save processed image info\n",
    "        processed_images.add(fname)\n",
    "        with open(processed_file, \"w\") as f:\n",
    "            json.dump(list(processed_images), f)\n",
    "\n",
    "        annotation_id += 1\n",
    "        image_id += 1\n",
    "        break  # Move to next image\n",
    "\n",
    "print(\"\\n✅ All segmentations complete. JSON and segmented images saved.\")"
   ]
  }
 ],
 "metadata": {
  "kernelspec": {
   "display_name": "Python 3",
   "language": "python",
   "name": "python3"
  },
  "language_info": {
   "codemirror_mode": {
    "name": "ipython",
    "version": 3
   },
   "file_extension": ".py",
   "mimetype": "text/x-python",
   "name": "python",
   "nbconvert_exporter": "python",
   "pygments_lexer": "ipython3",
   "version": "3.12.3"
  }
 },
 "nbformat": 4,
 "nbformat_minor": 5
}
